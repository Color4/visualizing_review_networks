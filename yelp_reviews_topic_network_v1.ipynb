{
 "cells": [
  {
   "cell_type": "code",
   "execution_count": 20,
   "metadata": {
    "ExecuteTime": {
     "end_time": "2018-04-30T01:56:53.912544Z",
     "start_time": "2018-04-30T01:56:52.370491Z"
    }
   },
   "outputs": [],
   "source": [
    "import csv\n",
    "import collections\n",
    "import pandas as pd\n",
    "import numpy as np\n",
    "from sklearn.metrics.pairwise import euclidean_distances\n",
    "from scipy.stats import entropy\n",
    "import networkx as nx\n",
    "from operator import itemgetter\n",
    "\n",
    "from sklearn.metrics.pairwise import pairwise_distances\n",
    "\n",
    "import matplotlib.pyplot as plt\n",
    "from matplotlib import pyplot, patches\n",
    "\n",
    "import plotly.plotly as py\n",
    "from plotly.offline import download_plotlyjs, init_notebook_mode,  iplot, plot\n",
    "import plotly.graph_objs as go\n",
    "import plotly.offline as offline\n",
    "from tqdm._tqdm_notebook import tqdm"
   ]
  },
  {
   "cell_type": "code",
   "execution_count": 21,
   "metadata": {
    "ExecuteTime": {
     "end_time": "2018-04-30T01:56:54.214354Z",
     "start_time": "2018-04-30T01:56:54.208120Z"
    }
   },
   "outputs": [
    {
     "data": {
      "text/html": [
       "<script>requirejs.config({paths: { 'plotly': ['https://cdn.plot.ly/plotly-latest.min']},});if(!window.Plotly) {{require(['plotly'],function(plotly) {window.Plotly=plotly;});}}</script>"
      ],
      "text/vnd.plotly.v1+html": [
       "<script>requirejs.config({paths: { 'plotly': ['https://cdn.plot.ly/plotly-latest.min']},});if(!window.Plotly) {{require(['plotly'],function(plotly) {window.Plotly=plotly;});}}</script>"
      ]
     },
     "metadata": {},
     "output_type": "display_data"
    }
   ],
   "source": [
    "init_notebook_mode(connected=True)"
   ]
  },
  {
   "cell_type": "code",
   "execution_count": 22,
   "metadata": {
    "ExecuteTime": {
     "end_time": "2018-04-30T01:56:54.547304Z",
     "start_time": "2018-04-30T01:56:54.496927Z"
    }
   },
   "outputs": [],
   "source": [
    "df = pd.read_feather('finaldoc2topic.feather')"
   ]
  },
  {
   "cell_type": "code",
   "execution_count": 23,
   "metadata": {
    "ExecuteTime": {
     "end_time": "2018-04-30T01:56:55.628547Z",
     "start_time": "2018-04-30T01:56:55.623821Z"
    }
   },
   "outputs": [],
   "source": [
    "def jensen_shannon(_P, _Q):\n",
    "    _M = 0.5 * (_P + _Q)\n",
    "    return 0.5 * (entropy(_P, _M) + entropy(_Q, _M))"
   ]
  },
  {
   "cell_type": "code",
   "execution_count": 24,
   "metadata": {
    "ExecuteTime": {
     "end_time": "2018-04-30T01:56:56.685130Z",
     "start_time": "2018-04-30T01:56:56.678079Z"
    }
   },
   "outputs": [
    {
     "data": {
      "text/plain": [
       "(237, 18)"
      ]
     },
     "execution_count": 24,
     "metadata": {},
     "output_type": "execute_result"
    }
   ],
   "source": [
    "df.shape   # 237"
   ]
  },
  {
   "cell_type": "code",
   "execution_count": 25,
   "metadata": {
    "ExecuteTime": {
     "end_time": "2018-04-30T01:56:57.778855Z",
     "start_time": "2018-04-30T01:56:57.746339Z"
    }
   },
   "outputs": [
    {
     "data": {
      "text/html": [
       "<div>\n",
       "<style scoped>\n",
       "    .dataframe tbody tr th:only-of-type {\n",
       "        vertical-align: middle;\n",
       "    }\n",
       "\n",
       "    .dataframe tbody tr th {\n",
       "        vertical-align: top;\n",
       "    }\n",
       "\n",
       "    .dataframe thead th {\n",
       "        text-align: right;\n",
       "    }\n",
       "</style>\n",
       "<table border=\"1\" class=\"dataframe\">\n",
       "  <thead>\n",
       "    <tr style=\"text-align: right;\">\n",
       "      <th></th>\n",
       "      <th>Topic1</th>\n",
       "      <th>Topic2</th>\n",
       "      <th>Topic3</th>\n",
       "      <th>Topic4</th>\n",
       "      <th>Topic5</th>\n",
       "      <th>Topic6</th>\n",
       "      <th>Topic7</th>\n",
       "      <th>Topic8</th>\n",
       "      <th>Topic9</th>\n",
       "      <th>Topic10</th>\n",
       "      <th>Topic11</th>\n",
       "      <th>Topic12</th>\n",
       "      <th>Topic13</th>\n",
       "      <th>Topic14</th>\n",
       "      <th>Topic15</th>\n",
       "      <th>Topic16</th>\n",
       "      <th>Topic17</th>\n",
       "      <th>Topic18</th>\n",
       "    </tr>\n",
       "  </thead>\n",
       "  <tbody>\n",
       "    <tr>\n",
       "      <th>0</th>\n",
       "      <td>0.031864</td>\n",
       "      <td>0.001086</td>\n",
       "      <td>0.005289</td>\n",
       "      <td>0.007907</td>\n",
       "      <td>0.006254</td>\n",
       "      <td>0.015224</td>\n",
       "      <td>0.013545</td>\n",
       "      <td>0.003002</td>\n",
       "      <td>0.000764</td>\n",
       "      <td>0.619946</td>\n",
       "      <td>0.000014</td>\n",
       "      <td>0.000014</td>\n",
       "      <td>0.102890</td>\n",
       "      <td>0.090591</td>\n",
       "      <td>0.011609</td>\n",
       "      <td>0.054163</td>\n",
       "      <td>0.013609</td>\n",
       "      <td>0.022229</td>\n",
       "    </tr>\n",
       "    <tr>\n",
       "      <th>1</th>\n",
       "      <td>0.000827</td>\n",
       "      <td>0.081257</td>\n",
       "      <td>0.002911</td>\n",
       "      <td>0.053077</td>\n",
       "      <td>0.575448</td>\n",
       "      <td>0.005392</td>\n",
       "      <td>0.000505</td>\n",
       "      <td>0.007939</td>\n",
       "      <td>0.009347</td>\n",
       "      <td>0.003647</td>\n",
       "      <td>0.034276</td>\n",
       "      <td>0.013535</td>\n",
       "      <td>0.016207</td>\n",
       "      <td>0.006142</td>\n",
       "      <td>0.006792</td>\n",
       "      <td>0.173229</td>\n",
       "      <td>0.003961</td>\n",
       "      <td>0.005508</td>\n",
       "    </tr>\n",
       "    <tr>\n",
       "      <th>2</th>\n",
       "      <td>0.007088</td>\n",
       "      <td>0.222558</td>\n",
       "      <td>0.009247</td>\n",
       "      <td>0.107580</td>\n",
       "      <td>0.003468</td>\n",
       "      <td>0.009972</td>\n",
       "      <td>0.016713</td>\n",
       "      <td>0.016657</td>\n",
       "      <td>0.046364</td>\n",
       "      <td>0.008369</td>\n",
       "      <td>0.040571</td>\n",
       "      <td>0.102030</td>\n",
       "      <td>0.028241</td>\n",
       "      <td>0.012212</td>\n",
       "      <td>0.009585</td>\n",
       "      <td>0.318069</td>\n",
       "      <td>0.021889</td>\n",
       "      <td>0.019387</td>\n",
       "    </tr>\n",
       "    <tr>\n",
       "      <th>3</th>\n",
       "      <td>0.004860</td>\n",
       "      <td>0.000439</td>\n",
       "      <td>0.021188</td>\n",
       "      <td>0.011603</td>\n",
       "      <td>0.042555</td>\n",
       "      <td>0.007211</td>\n",
       "      <td>0.012455</td>\n",
       "      <td>0.000012</td>\n",
       "      <td>0.092979</td>\n",
       "      <td>0.000012</td>\n",
       "      <td>0.008487</td>\n",
       "      <td>0.000012</td>\n",
       "      <td>0.000012</td>\n",
       "      <td>0.041125</td>\n",
       "      <td>0.000012</td>\n",
       "      <td>0.033540</td>\n",
       "      <td>0.616419</td>\n",
       "      <td>0.107080</td>\n",
       "    </tr>\n",
       "    <tr>\n",
       "      <th>4</th>\n",
       "      <td>0.008916</td>\n",
       "      <td>0.428269</td>\n",
       "      <td>0.010909</td>\n",
       "      <td>0.016861</td>\n",
       "      <td>0.001839</td>\n",
       "      <td>0.003052</td>\n",
       "      <td>0.004282</td>\n",
       "      <td>0.003109</td>\n",
       "      <td>0.036950</td>\n",
       "      <td>0.013114</td>\n",
       "      <td>0.035827</td>\n",
       "      <td>0.016337</td>\n",
       "      <td>0.013026</td>\n",
       "      <td>0.085354</td>\n",
       "      <td>0.005334</td>\n",
       "      <td>0.101793</td>\n",
       "      <td>0.177481</td>\n",
       "      <td>0.037548</td>\n",
       "    </tr>\n",
       "  </tbody>\n",
       "</table>\n",
       "</div>"
      ],
      "text/plain": [
       "     Topic1    Topic2    Topic3    Topic4    Topic5    Topic6    Topic7  \\\n",
       "0  0.031864  0.001086  0.005289  0.007907  0.006254  0.015224  0.013545   \n",
       "1  0.000827  0.081257  0.002911  0.053077  0.575448  0.005392  0.000505   \n",
       "2  0.007088  0.222558  0.009247  0.107580  0.003468  0.009972  0.016713   \n",
       "3  0.004860  0.000439  0.021188  0.011603  0.042555  0.007211  0.012455   \n",
       "4  0.008916  0.428269  0.010909  0.016861  0.001839  0.003052  0.004282   \n",
       "\n",
       "     Topic8    Topic9   Topic10   Topic11   Topic12   Topic13   Topic14  \\\n",
       "0  0.003002  0.000764  0.619946  0.000014  0.000014  0.102890  0.090591   \n",
       "1  0.007939  0.009347  0.003647  0.034276  0.013535  0.016207  0.006142   \n",
       "2  0.016657  0.046364  0.008369  0.040571  0.102030  0.028241  0.012212   \n",
       "3  0.000012  0.092979  0.000012  0.008487  0.000012  0.000012  0.041125   \n",
       "4  0.003109  0.036950  0.013114  0.035827  0.016337  0.013026  0.085354   \n",
       "\n",
       "    Topic15   Topic16   Topic17   Topic18  \n",
       "0  0.011609  0.054163  0.013609  0.022229  \n",
       "1  0.006792  0.173229  0.003961  0.005508  \n",
       "2  0.009585  0.318069  0.021889  0.019387  \n",
       "3  0.000012  0.033540  0.616419  0.107080  \n",
       "4  0.005334  0.101793  0.177481  0.037548  "
      ]
     },
     "execution_count": 25,
     "metadata": {},
     "output_type": "execute_result"
    }
   ],
   "source": [
    "df.head()"
   ]
  },
  {
   "cell_type": "code",
   "execution_count": 26,
   "metadata": {
    "ExecuteTime": {
     "end_time": "2018-04-30T01:56:58.842177Z",
     "start_time": "2018-04-30T01:56:58.836963Z"
    }
   },
   "outputs": [],
   "source": [
    "data = df.as_matrix()"
   ]
  },
  {
   "cell_type": "markdown",
   "metadata": {},
   "source": [
    "# Dash"
   ]
  },
  {
   "cell_type": "code",
   "execution_count": 27,
   "metadata": {
    "ExecuteTime": {
     "end_time": "2018-04-30T01:57:04.171925Z",
     "start_time": "2018-04-30T01:57:03.824406Z"
    }
   },
   "outputs": [],
   "source": [
    "import dash\n",
    "import dash_core_components as dcc\n",
    "import dash_html_components as html\n",
    "import pandas as pd\n",
    "import plotly.graph_objs as go"
   ]
  },
  {
   "cell_type": "markdown",
   "metadata": {},
   "source": [
    "## Create Data for Dash"
   ]
  },
  {
   "cell_type": "code",
   "execution_count": 28,
   "metadata": {
    "ExecuteTime": {
     "end_time": "2018-04-30T02:00:00.224873Z",
     "start_time": "2018-04-30T01:59:58.927363Z"
    }
   },
   "outputs": [],
   "source": [
    "# Pairwise Jensen-Shannon distance between each pair of observations based on the 18 topic-probabilities\n",
    "pairwise_dist = pairwise_distances(X=data, metric=jensen_shannon)"
   ]
  },
  {
   "cell_type": "code",
   "execution_count": 29,
   "metadata": {
    "ExecuteTime": {
     "end_time": "2018-04-30T02:01:01.025991Z",
     "start_time": "2018-04-30T02:01:01.020075Z"
    }
   },
   "outputs": [],
   "source": [
    "threshold_all = [0.52, 0.54, 0.56, 0.58, 0.60]    # arbitrary threshold for deciding whether 2 observations are 'similar' or not\n",
    "adjacency = [np.where(pairwise_dist > threshold, 1, 0) for threshold in threshold_all]"
   ]
  },
  {
   "cell_type": "code",
   "execution_count": 30,
   "metadata": {
    "ExecuteTime": {
     "end_time": "2018-04-30T02:01:04.882037Z",
     "start_time": "2018-04-30T02:01:04.876810Z"
    }
   },
   "outputs": [],
   "source": [
    "# map threshold value to adjacency matrix # save\n",
    "thresh_to_adj = {thresh: adj for thresh, adj in zip(threshold_all, adjacency)}"
   ]
  },
  {
   "cell_type": "code",
   "execution_count": 31,
   "metadata": {
    "ExecuteTime": {
     "end_time": "2018-04-30T02:01:08.764733Z",
     "start_time": "2018-04-30T02:01:08.758677Z"
    }
   },
   "outputs": [],
   "source": [
    "def create_graph(adj):\n",
    "    # input: adjaccency matrix\n",
    "    # returns a graph with the isolates removed\n",
    "    G = nx.from_numpy_matrix(adj)\n",
    "    isolates = list(nx.isolates(G))\n",
    "    G.remove_nodes_from(isolates)\n",
    "    return G"
   ]
  },
  {
   "cell_type": "code",
   "execution_count": 32,
   "metadata": {
    "ExecuteTime": {
     "end_time": "2018-04-30T02:01:13.082275Z",
     "start_time": "2018-04-30T02:01:13.032705Z"
    }
   },
   "outputs": [],
   "source": [
    "# map threshold value to graph # save\n",
    "# thresh_to_graph = {thresh: nx.from_numpy_matrix(adj) for thresh, adj in zip(threshold_all, adjacency)}\n",
    "thresh_to_graph = {thresh: create_graph(adj) for thresh, adj in zip(threshold_all, adjacency)}"
   ]
  },
  {
   "cell_type": "code",
   "execution_count": 33,
   "metadata": {
    "ExecuteTime": {
     "end_time": "2018-04-30T02:01:25.450791Z",
     "start_time": "2018-04-30T02:01:17.912972Z"
    }
   },
   "outputs": [],
   "source": [
    "# extract node positions\n",
    "fruchterman_k = 5\n",
    "fruchterman_iter = 1000\n",
    "\n",
    "# map threshold values to positions of nodes # save\n",
    "thresh_to_pos = {}\n",
    "\n",
    "for thresh in thresh_to_graph:\n",
    "    graph = nx.fruchterman_reingold_layout(thresh_to_graph[thresh], k = fruchterman_k, iterations=fruchterman_iter)\n",
    "    thresh_to_pos[thresh] = graph\n"
   ]
  },
  {
   "cell_type": "code",
   "execution_count": 34,
   "metadata": {
    "ExecuteTime": {
     "end_time": "2018-04-30T02:01:29.811153Z",
     "start_time": "2018-04-30T02:01:29.801041Z"
    }
   },
   "outputs": [
    {
     "name": "stderr",
     "output_type": "stream",
     "text": [
      "100%|██████████| 5/5 [00:00<00:00, 11250.82it/s]\n"
     ]
    }
   ],
   "source": [
    "thresh_to_XnYn = {} # save\n",
    "for thresh in tqdm(thresh_to_pos):\n",
    "    pos = thresh_to_pos[thresh]\n",
    "    # define lists of node coordinates\n",
    "    Xn = [pos[k][0] for k in sorted(pos.keys())]\n",
    "    Yn = [pos[k][1] for k in sorted(pos.keys())]\n",
    "    thresh_to_XnYn[thresh] = (Xn, Yn)\n",
    "    "
   ]
  },
  {
   "cell_type": "code",
   "execution_count": 38,
   "metadata": {},
   "outputs": [],
   "source": [
    "threshold_all = [0.52, 0.54, 0.56, 0.58, 0.60]\n",
    "def th_mark(x):\n",
    "    if x==np.min(threshold_all):\n",
    "        return 'Low'\n",
    "    elif x==np.max(threshold_all):\n",
    "        return 'High'\n",
    "    else:\n",
    "        return ''\n",
    "threshold_mark = {str(th):th_mark(th) for th in threshold_all}\n"
   ]
  },
  {
   "cell_type": "code",
   "execution_count": null,
   "metadata": {
    "ExecuteTime": {
     "start_time": "2018-04-30T02:51:09.677Z"
    },
    "scrolled": false
   },
   "outputs": [
    {
     "name": "stderr",
     "output_type": "stream",
     "text": [
      " * Running on http://0.0.0.0:8050/ (Press CTRL+C to quit)\n",
      "69.181.104.47 - - [06/May/2018 22:53:14] \"GET / HTTP/1.1\" 200 -\n",
      "69.181.104.47 - - [06/May/2018 22:53:14] \"GET /_dash-layout HTTP/1.1\" 200 -\n",
      "69.181.104.47 - - [06/May/2018 22:53:14] \"GET /_dash-dependencies HTTP/1.1\" 200 -\n",
      "69.181.104.47 - - [06/May/2018 22:53:14] \"POST /_dash-update-component HTTP/1.1\" 200 -\n",
      "69.181.104.47 - - [06/May/2018 22:53:14] \"GET /favicon.ico HTTP/1.1\" 200 -\n",
      "69.181.104.47 - - [06/May/2018 22:53:22] \"GET / HTTP/1.1\" 200 -\n",
      "69.181.104.47 - - [06/May/2018 22:53:23] \"GET /_dash-layout HTTP/1.1\" 200 -\n",
      "69.181.104.47 - - [06/May/2018 22:53:45] \"GET /_dash-dependencies HTTP/1.1\" 200 -\n",
      "69.181.104.47 - - [06/May/2018 22:53:45] \"POST /_dash-update-component HTTP/1.1\" 200 -\n",
      "69.181.104.47 - - [06/May/2018 23:04:32] \"GET / HTTP/1.1\" 200 -\n",
      "69.181.104.47 - - [06/May/2018 23:04:32] \"GET /_dash-dependencies HTTP/1.1\" 200 -\n",
      "69.181.104.47 - - [06/May/2018 23:04:32] \"GET /_dash-layout HTTP/1.1\" 200 -\n",
      "69.181.104.47 - - [06/May/2018 23:04:32] \"POST /_dash-update-component HTTP/1.1\" 200 -\n",
      "69.181.104.47 - - [06/May/2018 23:05:52] \"GET / HTTP/1.1\" 200 -\n",
      "69.181.104.47 - - [06/May/2018 23:05:53] \"GET /_dash-layout HTTP/1.1\" 200 -\n",
      "69.181.104.47 - - [06/May/2018 23:05:53] \"GET /_dash-dependencies HTTP/1.1\" 200 -\n",
      "69.181.104.47 - - [06/May/2018 23:05:53] \"POST /_dash-update-component HTTP/1.1\" 200 -\n",
      "69.181.104.47 - - [06/May/2018 23:06:58] \"GET / HTTP/1.1\" 200 -\n",
      "69.181.104.47 - - [06/May/2018 23:06:59] \"GET /_dash-layout HTTP/1.1\" 200 -\n",
      "69.181.104.47 - - [06/May/2018 23:06:59] \"GET /_dash-dependencies HTTP/1.1\" 200 -\n",
      "69.181.104.47 - - [06/May/2018 23:06:59] \"POST /_dash-update-component HTTP/1.1\" 200 -\n",
      "69.181.104.47 - - [06/May/2018 23:07:16] \"GET / HTTP/1.1\" 200 -\n",
      "69.181.104.47 - - [06/May/2018 23:07:16] \"GET /_dash-dependencies HTTP/1.1\" 200 -\n",
      "69.181.104.47 - - [06/May/2018 23:07:16] \"GET /_dash-layout HTTP/1.1\" 200 -\n",
      "69.181.104.47 - - [06/May/2018 23:07:16] \"POST /_dash-update-component HTTP/1.1\" 200 -\n",
      "69.181.104.47 - - [06/May/2018 23:07:20] \"POST /_dash-update-component HTTP/1.1\" 200 -\n",
      "69.181.104.47 - - [06/May/2018 23:07:38] \"GET / HTTP/1.1\" 200 -\n",
      "69.181.104.47 - - [06/May/2018 23:07:38] \"GET /_dash-layout HTTP/1.1\" 200 -\n",
      "69.181.104.47 - - [06/May/2018 23:07:53] \"GET /_dash-dependencies HTTP/1.1\" 200 -\n",
      "69.181.104.47 - - [06/May/2018 23:07:53] \"POST /_dash-update-component HTTP/1.1\" 200 -\n",
      "69.181.104.47 - - [06/May/2018 23:08:06] \"POST /_dash-update-component HTTP/1.1\" 200 -\n",
      "69.181.104.47 - - [06/May/2018 23:08:35] \"GET / HTTP/1.1\" 200 -\n",
      "69.181.104.47 - - [06/May/2018 23:08:35] \"GET /_dash-dependencies HTTP/1.1\" 200 -\n",
      "69.181.104.47 - - [06/May/2018 23:08:35] \"GET /_dash-layout HTTP/1.1\" 200 -\n",
      "69.181.104.47 - - [06/May/2018 23:08:35] \"POST /_dash-update-component HTTP/1.1\" 200 -\n",
      "69.181.104.47 - - [06/May/2018 23:08:36] \"GET /favicon.ico HTTP/1.1\" 200 -\n",
      "69.181.104.47 - - [06/May/2018 23:09:54] \"GET / HTTP/1.1\" 200 -\n",
      "69.181.104.47 - - [06/May/2018 23:09:54] \"GET /_dash-layout HTTP/1.1\" 200 -\n",
      "69.181.104.47 - - [06/May/2018 23:09:55] \"GET /_dash-dependencies HTTP/1.1\" 200 -\n",
      "69.181.104.47 - - [06/May/2018 23:09:55] \"POST /_dash-update-component HTTP/1.1\" 200 -\n",
      "69.181.104.47 - - [06/May/2018 23:10:02] \"POST /_dash-update-component HTTP/1.1\" 200 -\n",
      "69.181.104.47 - - [06/May/2018 23:10:16] \"POST /_dash-update-component HTTP/1.1\" 200 -\n",
      "69.181.104.47 - - [06/May/2018 23:14:02] \"GET / HTTP/1.1\" 200 -\n",
      "69.181.104.47 - - [06/May/2018 23:14:02] \"GET /_dash-layout HTTP/1.1\" 200 -\n",
      "69.181.104.47 - - [06/May/2018 23:14:12] \"GET / HTTP/1.1\" 200 -\n",
      "69.181.104.47 - - [06/May/2018 23:14:12] \"GET /_dash-dependencies HTTP/1.1\" 200 -\n",
      "69.181.104.47 - - [06/May/2018 23:14:12] \"POST /_dash-update-component HTTP/1.1\" 200 -\n",
      "69.181.104.47 - - [06/May/2018 23:14:12] \"GET /_dash-layout HTTP/1.1\" 200 -\n",
      "69.181.104.47 - - [06/May/2018 23:14:12] \"GET /_dash-dependencies HTTP/1.1\" 200 -\n",
      "69.181.104.47 - - [06/May/2018 23:14:12] \"POST /_dash-update-component HTTP/1.1\" 200 -\n"
     ]
    }
   ],
   "source": [
    "app = dash.Dash()\n",
    "\n",
    "app.layout = html.Div([\n",
    "    html.Div([\n",
    "    dcc.Graph(id='graph-with-slider')\n",
    "    ],style={'width': '60%', 'pad': 100}),\n",
    "    html.Div([\n",
    "    html.H2('Similarity Cutoff'),\n",
    "    dcc.Slider(\n",
    "        id='threshold-slider',\n",
    "        min=min(threshold_all),\n",
    "        max=max(threshold_all),\n",
    "        value=threshold_all[int(np.floor(len(threshold_all)/2))],\n",
    "        step=None,\n",
    "        marks=threshold_mark\n",
    "    )\n",
    "    ], style={'width': '47%','marginBottom': 0, 'marginTop': 0,'marginLeft':135, \n",
    "              'fontSize':15, 'font-family': 'Arial'})\n",
    "])\n",
    "\n",
    "@app.callback(\n",
    "    dash.dependencies.Output('graph-with-slider', 'figure'),\n",
    "    [dash.dependencies.Input('threshold-slider', 'value')])\n",
    "def update_figure(selected_threshold):\n",
    "\n",
    "\n",
    "# Work to be done: subset the Xn and Yn for given threshold\n",
    "    Xn, Yn = thresh_to_XnYn[selected_threshold]\n",
    "\n",
    "# define a trace for plotly\n",
    "    trace_nodes = dict(type='scatter', \n",
    "                       x=Xn, \n",
    "                       y=Yn,\n",
    "                       mode='markers',\n",
    "                       marker=dict(symbol='dot', \n",
    "                                   size=10),\n",
    "                       showlegend=True, \n",
    "                       visible=True)\n",
    "\n",
    "# record the coordinates of the ends of edges\n",
    "    Xe = []\n",
    "    Ye = []\n",
    "    G = thresh_to_graph[selected_threshold]\n",
    "    for e in G.edges():\n",
    "        pos = thresh_to_pos[selected_threshold]\n",
    "        Xe.extend([pos[e[0]][0], pos[e[1]][0], None])\n",
    "        Ye.extend([pos[e[0]][1], pos[e[1]][1], None])\n",
    "\n",
    "# trace_edges defines the graph edges as a trace of type scatter (line)\n",
    "    trace_edges=dict(type='scatter',\n",
    "                     mode='lines',\n",
    "                     x=Xe,\n",
    "                     y=Ye,\n",
    "                     line=dict(width=0.1, color='rgb(51, 51, 51)'),\n",
    "                     hoverinfo='none', showlegend=False)\n",
    "\n",
    "    axis=dict(showline=False, # hide axis line, grid, ticklabels and  title\n",
    "              zeroline=False,\n",
    "              showgrid=False,\n",
    "              showticklabels=False,\n",
    "              title='' \n",
    "              )\n",
    "    layout=dict(title= 'Network of Restaurants based on User Reviews',  \n",
    "                font= dict(family='Balto'),\n",
    "                width=1000,\n",
    "                height=800,\n",
    "                autosize=False,\n",
    "                showlegend=True,\n",
    "                xaxis=axis,\n",
    "                yaxis=axis,\n",
    "                margin=dict(\n",
    "                l=40,\n",
    "                r=40,\n",
    "                b=85,\n",
    "                t=100,\n",
    "                pad=0,\n",
    "       \n",
    "        ),\n",
    "        hovermode='closest',\n",
    "        plot_bgcolor='#efecea', #set background color            \n",
    "        )\n",
    "\n",
    "\n",
    "    return {\n",
    "        'data': [trace_edges, trace_nodes],\n",
    "        'layout': layout}\n",
    "\n",
    "\n",
    "if __name__ == '__main__':\n",
    "    app.run_server(host='0.0.0.0')"
   ]
  },
  {
   "cell_type": "markdown",
   "metadata": {},
   "source": [
    "# To do:\n",
    "\n",
    "Find good values of k for each threshold value -  and set k as well when you plot"
   ]
  }
 ],
 "metadata": {
  "kernelspec": {
   "display_name": "Python 3",
   "language": "python",
   "name": "python3"
  },
  "language_info": {
   "codemirror_mode": {
    "name": "ipython",
    "version": 3
   },
   "file_extension": ".py",
   "mimetype": "text/x-python",
   "name": "python",
   "nbconvert_exporter": "python",
   "pygments_lexer": "ipython3",
   "version": "3.6.4"
  },
  "latex_envs": {
   "LaTeX_envs_menu_present": true,
   "autocomplete": true,
   "bibliofile": "biblio.bib",
   "cite_by": "apalike",
   "current_citInitial": 1,
   "eqLabelWithNumbers": true,
   "eqNumInitial": 1,
   "hotkeys": {
    "equation": "Ctrl-E",
    "itemize": "Ctrl-I"
   },
   "labels_anchors": false,
   "latex_user_defs": false,
   "report_style_numbering": false,
   "user_envs_cfg": false
  },
  "toc": {
   "nav_menu": {},
   "number_sections": true,
   "sideBar": true,
   "skip_h1_title": false,
   "toc_cell": false,
   "toc_position": {},
   "toc_section_display": "block",
   "toc_window_display": false
  },
  "varInspector": {
   "cols": {
    "lenName": 16,
    "lenType": 16,
    "lenVar": 40
   },
   "kernels_config": {
    "python": {
     "delete_cmd_postfix": "",
     "delete_cmd_prefix": "del ",
     "library": "var_list.py",
     "varRefreshCmd": "print(var_dic_list())"
    },
    "r": {
     "delete_cmd_postfix": ") ",
     "delete_cmd_prefix": "rm(",
     "library": "var_list.r",
     "varRefreshCmd": "cat(var_dic_list()) "
    }
   },
   "types_to_exclude": [
    "module",
    "function",
    "builtin_function_or_method",
    "instance",
    "_Feature"
   ],
   "window_display": false
  }
 },
 "nbformat": 4,
 "nbformat_minor": 2
}
