{
 "cells": [
  {
   "cell_type": "code",
   "execution_count": 1,
   "metadata": {
    "ExecuteTime": {
     "end_time": "2018-05-06T21:47:52.934651Z",
     "start_time": "2018-05-06T21:47:48.722983Z"
    }
   },
   "outputs": [],
   "source": [
    "import csv\n",
    "import collections\n",
    "import pandas as pd\n",
    "import numpy as np\n",
    "from sklearn.metrics.pairwise import euclidean_distances\n",
    "from scipy.stats import entropy\n",
    "import networkx as nx\n",
    "from operator import itemgetter\n",
    "\n",
    "from sklearn.metrics.pairwise import pairwise_distances\n",
    "\n",
    "import matplotlib.pyplot as plt\n",
    "from matplotlib import pyplot, patches\n",
    "\n",
    "import plotly.plotly as py\n",
    "from plotly.offline import download_plotlyjs, init_notebook_mode,  iplot, plot\n",
    "import plotly.graph_objs as go\n",
    "import plotly.offline as offline"
   ]
  },
  {
   "cell_type": "code",
   "execution_count": 2,
   "metadata": {
    "ExecuteTime": {
     "end_time": "2018-05-06T21:47:53.408300Z",
     "start_time": "2018-05-06T21:47:53.402880Z"
    }
   },
   "outputs": [
    {
     "data": {
      "text/html": [
       "<script>requirejs.config({paths: { 'plotly': ['https://cdn.plot.ly/plotly-latest.min']},});if(!window.Plotly) {{require(['plotly'],function(plotly) {window.Plotly=plotly;});}}</script>"
      ],
      "text/vnd.plotly.v1+html": [
       "<script>requirejs.config({paths: { 'plotly': ['https://cdn.plot.ly/plotly-latest.min']},});if(!window.Plotly) {{require(['plotly'],function(plotly) {window.Plotly=plotly;});}}</script>"
      ]
     },
     "metadata": {},
     "output_type": "display_data"
    }
   ],
   "source": [
    "init_notebook_mode(connected=True)"
   ]
  },
  {
   "cell_type": "code",
   "execution_count": 3,
   "metadata": {
    "ExecuteTime": {
     "end_time": "2018-05-06T21:47:53.658448Z",
     "start_time": "2018-05-06T21:47:53.652298Z"
    }
   },
   "outputs": [],
   "source": [
    "def jensen_shannon(_P, _Q):\n",
    "    _M = 0.5 * (_P + _Q)\n",
    "    return 0.5 * (entropy(_P, _M) + entropy(_Q, _M))"
   ]
  },
  {
   "cell_type": "code",
   "execution_count": 4,
   "metadata": {
    "ExecuteTime": {
     "end_time": "2018-05-06T21:47:54.552335Z",
     "start_time": "2018-05-06T21:47:53.999469Z"
    }
   },
   "outputs": [],
   "source": [
    "import dash\n",
    "import dash_core_components as dcc\n",
    "import dash_html_components as html\n",
    "import pandas as pd\n",
    "import plotly.graph_objs as go"
   ]
  },
  {
   "cell_type": "markdown",
   "metadata": {},
   "source": [
    "# Create Data for Dash"
   ]
  },
  {
   "cell_type": "code",
   "execution_count": 5,
   "metadata": {
    "ExecuteTime": {
     "end_time": "2018-05-06T21:47:55.066740Z",
     "start_time": "2018-05-06T21:47:54.952368Z"
    }
   },
   "outputs": [],
   "source": [
    "df = pd.read_feather('df_final_doc2topics.feather')\n",
    "df.drop(['business_id'], axis=1, inplace=True)\n",
    "data = df.drop(['name', 'is_strip', 'stars'], axis=1).as_matrix()"
   ]
  },
  {
   "cell_type": "code",
   "execution_count": 6,
   "metadata": {
    "ExecuteTime": {
     "end_time": "2018-05-06T21:47:55.431810Z",
     "start_time": "2018-05-06T21:47:55.399661Z"
    },
    "scrolled": true
   },
   "outputs": [
    {
     "data": {
      "text/html": [
       "<div>\n",
       "<style scoped>\n",
       "    .dataframe tbody tr th:only-of-type {\n",
       "        vertical-align: middle;\n",
       "    }\n",
       "\n",
       "    .dataframe tbody tr th {\n",
       "        vertical-align: top;\n",
       "    }\n",
       "\n",
       "    .dataframe thead th {\n",
       "        text-align: right;\n",
       "    }\n",
       "</style>\n",
       "<table border=\"1\" class=\"dataframe\">\n",
       "  <thead>\n",
       "    <tr style=\"text-align: right;\">\n",
       "      <th></th>\n",
       "      <th>name</th>\n",
       "      <th>is_strip</th>\n",
       "      <th>stars</th>\n",
       "      <th>Topic1</th>\n",
       "      <th>Topic2</th>\n",
       "      <th>Topic3</th>\n",
       "      <th>Topic4</th>\n",
       "      <th>Topic5</th>\n",
       "      <th>Topic6</th>\n",
       "      <th>Topic7</th>\n",
       "      <th>...</th>\n",
       "      <th>Topic9</th>\n",
       "      <th>Topic10</th>\n",
       "      <th>Topic11</th>\n",
       "      <th>Topic12</th>\n",
       "      <th>Topic13</th>\n",
       "      <th>Topic14</th>\n",
       "      <th>Topic15</th>\n",
       "      <th>Topic16</th>\n",
       "      <th>Topic17</th>\n",
       "      <th>Topic18</th>\n",
       "    </tr>\n",
       "  </thead>\n",
       "  <tbody>\n",
       "    <tr>\n",
       "      <th>232</th>\n",
       "      <td>Wahlburgers</td>\n",
       "      <td>True</td>\n",
       "      <td>3.5</td>\n",
       "      <td>0.002344</td>\n",
       "      <td>0.059422</td>\n",
       "      <td>0.014279</td>\n",
       "      <td>0.017418</td>\n",
       "      <td>0.007613</td>\n",
       "      <td>0.008466</td>\n",
       "      <td>0.390668</td>\n",
       "      <td>...</td>\n",
       "      <td>0.030900</td>\n",
       "      <td>0.001399</td>\n",
       "      <td>0.042051</td>\n",
       "      <td>0.106462</td>\n",
       "      <td>0.021838</td>\n",
       "      <td>0.047367</td>\n",
       "      <td>0.021152</td>\n",
       "      <td>0.199925</td>\n",
       "      <td>0.014332</td>\n",
       "      <td>0.009686</td>\n",
       "    </tr>\n",
       "    <tr>\n",
       "      <th>233</th>\n",
       "      <td>Metro Diner</td>\n",
       "      <td>False</td>\n",
       "      <td>4.5</td>\n",
       "      <td>0.001234</td>\n",
       "      <td>0.011513</td>\n",
       "      <td>0.031174</td>\n",
       "      <td>0.000624</td>\n",
       "      <td>0.000544</td>\n",
       "      <td>0.014578</td>\n",
       "      <td>0.109041</td>\n",
       "      <td>...</td>\n",
       "      <td>0.109220</td>\n",
       "      <td>0.000006</td>\n",
       "      <td>0.062768</td>\n",
       "      <td>0.031438</td>\n",
       "      <td>0.002176</td>\n",
       "      <td>0.007427</td>\n",
       "      <td>0.011144</td>\n",
       "      <td>0.011763</td>\n",
       "      <td>0.575775</td>\n",
       "      <td>0.016012</td>\n",
       "    </tr>\n",
       "    <tr>\n",
       "      <th>234</th>\n",
       "      <td>Lo-Lo's Chicken and Waffles</td>\n",
       "      <td>False</td>\n",
       "      <td>3.0</td>\n",
       "      <td>0.000399</td>\n",
       "      <td>0.000010</td>\n",
       "      <td>0.009560</td>\n",
       "      <td>0.000010</td>\n",
       "      <td>0.005469</td>\n",
       "      <td>0.001808</td>\n",
       "      <td>0.003014</td>\n",
       "      <td>...</td>\n",
       "      <td>0.084914</td>\n",
       "      <td>0.004546</td>\n",
       "      <td>0.066156</td>\n",
       "      <td>0.187578</td>\n",
       "      <td>0.007661</td>\n",
       "      <td>0.003924</td>\n",
       "      <td>0.001564</td>\n",
       "      <td>0.196273</td>\n",
       "      <td>0.340406</td>\n",
       "      <td>0.086699</td>\n",
       "    </tr>\n",
       "    <tr>\n",
       "      <th>235</th>\n",
       "      <td>SkinnyFATS</td>\n",
       "      <td>False</td>\n",
       "      <td>4.5</td>\n",
       "      <td>0.005424</td>\n",
       "      <td>0.051373</td>\n",
       "      <td>0.003580</td>\n",
       "      <td>0.003287</td>\n",
       "      <td>0.011391</td>\n",
       "      <td>0.026667</td>\n",
       "      <td>0.207678</td>\n",
       "      <td>...</td>\n",
       "      <td>0.050492</td>\n",
       "      <td>0.042658</td>\n",
       "      <td>0.006249</td>\n",
       "      <td>0.000012</td>\n",
       "      <td>0.024812</td>\n",
       "      <td>0.270400</td>\n",
       "      <td>0.003818</td>\n",
       "      <td>0.046187</td>\n",
       "      <td>0.192820</td>\n",
       "      <td>0.053139</td>\n",
       "    </tr>\n",
       "    <tr>\n",
       "      <th>236</th>\n",
       "      <td>Virgil's Real Barbecue - Las Vegas</td>\n",
       "      <td>True</td>\n",
       "      <td>3.5</td>\n",
       "      <td>0.000010</td>\n",
       "      <td>0.077584</td>\n",
       "      <td>0.037697</td>\n",
       "      <td>0.049545</td>\n",
       "      <td>0.004495</td>\n",
       "      <td>0.000010</td>\n",
       "      <td>0.010647</td>\n",
       "      <td>...</td>\n",
       "      <td>0.035005</td>\n",
       "      <td>0.008696</td>\n",
       "      <td>0.117267</td>\n",
       "      <td>0.059909</td>\n",
       "      <td>0.046701</td>\n",
       "      <td>0.002465</td>\n",
       "      <td>0.007658</td>\n",
       "      <td>0.060285</td>\n",
       "      <td>0.428152</td>\n",
       "      <td>0.048046</td>\n",
       "    </tr>\n",
       "  </tbody>\n",
       "</table>\n",
       "<p>5 rows × 21 columns</p>\n",
       "</div>"
      ],
      "text/plain": [
       "                                   name is_strip  stars    Topic1    Topic2  \\\n",
       "232                         Wahlburgers     True    3.5  0.002344  0.059422   \n",
       "233                         Metro Diner    False    4.5  0.001234  0.011513   \n",
       "234         Lo-Lo's Chicken and Waffles    False    3.0  0.000399  0.000010   \n",
       "235                          SkinnyFATS    False    4.5  0.005424  0.051373   \n",
       "236  Virgil's Real Barbecue - Las Vegas     True    3.5  0.000010  0.077584   \n",
       "\n",
       "       Topic3    Topic4    Topic5    Topic6    Topic7    ...       Topic9  \\\n",
       "232  0.014279  0.017418  0.007613  0.008466  0.390668    ...     0.030900   \n",
       "233  0.031174  0.000624  0.000544  0.014578  0.109041    ...     0.109220   \n",
       "234  0.009560  0.000010  0.005469  0.001808  0.003014    ...     0.084914   \n",
       "235  0.003580  0.003287  0.011391  0.026667  0.207678    ...     0.050492   \n",
       "236  0.037697  0.049545  0.004495  0.000010  0.010647    ...     0.035005   \n",
       "\n",
       "      Topic10   Topic11   Topic12   Topic13   Topic14   Topic15   Topic16  \\\n",
       "232  0.001399  0.042051  0.106462  0.021838  0.047367  0.021152  0.199925   \n",
       "233  0.000006  0.062768  0.031438  0.002176  0.007427  0.011144  0.011763   \n",
       "234  0.004546  0.066156  0.187578  0.007661  0.003924  0.001564  0.196273   \n",
       "235  0.042658  0.006249  0.000012  0.024812  0.270400  0.003818  0.046187   \n",
       "236  0.008696  0.117267  0.059909  0.046701  0.002465  0.007658  0.060285   \n",
       "\n",
       "      Topic17   Topic18  \n",
       "232  0.014332  0.009686  \n",
       "233  0.575775  0.016012  \n",
       "234  0.340406  0.086699  \n",
       "235  0.192820  0.053139  \n",
       "236  0.428152  0.048046  \n",
       "\n",
       "[5 rows x 21 columns]"
      ]
     },
     "execution_count": 6,
     "metadata": {},
     "output_type": "execute_result"
    }
   ],
   "source": [
    "df.tail()"
   ]
  },
  {
   "cell_type": "code",
   "execution_count": 7,
   "metadata": {
    "ExecuteTime": {
     "end_time": "2018-05-06T21:47:55.937518Z",
     "start_time": "2018-05-06T21:47:55.925077Z"
    }
   },
   "outputs": [
    {
     "data": {
      "text/plain": [
       "(237, 21)"
      ]
     },
     "execution_count": 7,
     "metadata": {},
     "output_type": "execute_result"
    }
   ],
   "source": [
    "df.shape"
   ]
  },
  {
   "cell_type": "code",
   "execution_count": 8,
   "metadata": {
    "ExecuteTime": {
     "end_time": "2018-05-06T21:47:56.160451Z",
     "start_time": "2018-05-06T21:47:56.142437Z"
    }
   },
   "outputs": [
    {
     "data": {
      "text/plain": [
       "(237, 18)"
      ]
     },
     "execution_count": 8,
     "metadata": {},
     "output_type": "execute_result"
    }
   ],
   "source": [
    "data.shape"
   ]
  },
  {
   "cell_type": "code",
   "execution_count": 9,
   "metadata": {
    "ExecuteTime": {
     "end_time": "2018-05-06T21:47:56.474066Z",
     "start_time": "2018-05-06T21:47:56.458582Z"
    }
   },
   "outputs": [],
   "source": [
    "# find the topic most closely related to each restaurant\n",
    "topic_closest_ind = np.argmax(data, axis=1)\n",
    "\n",
    "topic_names_ord = ['Cost & Quality', 'Bars', 'Casino Hotel', 'Fine Dining', 'Asian', 'Pizza', 'Steakhouse', \n",
    "                   'Italian', 'Coffee Shop', 'High Customer Satisfaction', 'Night Club', 'Wait Time', 'Mexican', \n",
    "                   'Lunch', 'Sushi', 'Fast Food', 'Breakfast', 'Low Customer Satisfaction']\n",
    "\n",
    "# names of topics most closely related to each restaurant (ordered by the order of restaurants in df)\n",
    "topic_closest = [topic_names_ord[ind] for ind in topic_closest_ind]"
   ]
  },
  {
   "cell_type": "code",
   "execution_count": 10,
   "metadata": {
    "ExecuteTime": {
     "end_time": "2018-05-06T21:47:58.221852Z",
     "start_time": "2018-05-06T21:47:56.790891Z"
    }
   },
   "outputs": [],
   "source": [
    "# Pairwise Jensen-Shannon distance between each pair of observations based on the 18 topic-probabilities\n",
    "pairwise_dist = pairwise_distances(X=data, metric=jensen_shannon)"
   ]
  },
  {
   "cell_type": "code",
   "execution_count": 56,
   "metadata": {
    "ExecuteTime": {
     "end_time": "2018-05-07T04:22:07.909158Z",
     "start_time": "2018-05-07T04:22:07.904797Z"
    }
   },
   "outputs": [],
   "source": [
    "threshold2k ={\n",
    "    0.55: 0.7,\n",
    "    0.56: 0.9,\n",
    "    0.57: 0.3,\n",
    "    0.58: 5,\n",
    "    0.59: 2,\n",
    "    0.6: 5,\n",
    "    0.61: 5,\n",
    "    0.62: 5\n",
    "}"
   ]
  },
  {
   "cell_type": "code",
   "execution_count": 11,
   "metadata": {
    "ExecuteTime": {
     "end_time": "2018-05-06T21:47:58.397531Z",
     "start_time": "2018-05-06T21:47:58.381540Z"
    }
   },
   "outputs": [],
   "source": [
    "# arbitrary threshold for deciding whether 2 observations are 'similar' or not\n",
    "threshold_all = [0.55, 0.56, 0.57, 0.58, 0.59, 0.6, 0.61, 0.62]\n",
    "def th_mark(x):\n",
    "    if x==np.min(threshold_all):\n",
    "        return 'Low'\n",
    "    elif x==np.max(threshold_all):\n",
    "        return 'High'\n",
    "    else:\n",
    "        return ''\n",
    "    \n",
    "threshold_mark = {str(th):th_mark(th) for th in threshold_all}\n",
    "adjacency = [np.where(pairwise_dist > threshold, 1, 0) for threshold in threshold_all]"
   ]
  },
  {
   "cell_type": "code",
   "execution_count": 12,
   "metadata": {
    "ExecuteTime": {
     "end_time": "2018-05-06T21:47:58.553437Z",
     "start_time": "2018-05-06T21:47:58.546117Z"
    }
   },
   "outputs": [],
   "source": [
    "# map threshold value to adjacency matrix\n",
    "thresh_to_adj = {thresh: adj for thresh, adj in zip(threshold_all, adjacency)}"
   ]
  },
  {
   "cell_type": "code",
   "execution_count": 13,
   "metadata": {
    "ExecuteTime": {
     "end_time": "2018-05-06T21:47:58.722989Z",
     "start_time": "2018-05-06T21:47:58.712348Z"
    }
   },
   "outputs": [],
   "source": [
    "def create_graph(adj):\n",
    "    # input: adjaccency matrix\n",
    "    # returns a graph with the isolates removed\n",
    "    G = nx.from_numpy_matrix(adj)\n",
    "    isolates = list(nx.isolates(G))\n",
    "    G.remove_nodes_from(isolates)\n",
    "    return G"
   ]
  },
  {
   "cell_type": "code",
   "execution_count": 14,
   "metadata": {
    "ExecuteTime": {
     "end_time": "2018-05-06T21:47:58.934009Z",
     "start_time": "2018-05-06T21:47:58.891592Z"
    }
   },
   "outputs": [],
   "source": [
    "# map threshold value to graph\n",
    "thresh_to_graph = {thresh: create_graph(adj) for thresh, adj in zip(threshold_all, adjacency)}"
   ]
  },
  {
   "cell_type": "code",
   "execution_count": 15,
   "metadata": {
    "ExecuteTime": {
     "end_time": "2018-05-06T21:48:06.107449Z",
     "start_time": "2018-05-06T21:47:59.103649Z"
    }
   },
   "outputs": [
    {
     "name": "stdout",
     "output_type": "stream",
     "text": [
      "CPU times: user 6.91 s, sys: 76.9 ms, total: 6.98 s\n",
      "Wall time: 7 s\n"
     ]
    }
   ],
   "source": [
    "%%time\n",
    "# extract node positions\n",
    "fruchterman_iter = 1000\n",
    "\n",
    "# map threshold values to positions of nodes\n",
    "thresh_to_pos = {}\n",
    "\n",
    "for thresh in thresh_to_graph:\n",
    "    graph = nx.fruchterman_reingold_layout(thresh_to_graph[thresh], k = threshold2k[thresh], iterations=fruchterman_iter)\n",
    "    thresh_to_pos[thresh] = graph\n"
   ]
  },
  {
   "cell_type": "code",
   "execution_count": 16,
   "metadata": {
    "ExecuteTime": {
     "end_time": "2018-05-06T21:48:07.593795Z",
     "start_time": "2018-05-06T21:48:06.505366Z"
    }
   },
   "outputs": [],
   "source": [
    "thresh_to_XnYn = {}\n",
    "for thresh in thresh_to_pos:\n",
    "    pos = thresh_to_pos[thresh]\n",
    "    # define lists of node coordinates\n",
    "    Xn_strip = [pos[k][0] for k in sorted(pos.keys()) if k in df.index[df.is_strip == True]]\n",
    "    Yn_strip = [pos[k][1] for k in sorted(pos.keys()) if k in df.index[df.is_strip == True]]\n",
    "    Xn_notstrip = [pos[k][0] for k in sorted(pos.keys()) if k in df.index[df.is_strip == False]]\n",
    "    Yn_notstrip = [pos[k][1] for k in sorted(pos.keys()) if k in df.index[df.is_strip == False]]\n",
    "    thresh_to_XnYn[thresh] = (Xn_strip, Yn_strip, Xn_notstrip, Yn_notstrip)"
   ]
  },
  {
   "cell_type": "code",
   "execution_count": 46,
   "metadata": {
    "ExecuteTime": {
     "end_time": "2018-05-06T23:15:04.496645Z",
     "start_time": "2018-05-06T23:15:04.489291Z"
    }
   },
   "outputs": [],
   "source": [
    "def update_slider_mark(slider_mark, font_size):\n",
    "    # update display style of position markers for the slider\n",
    "    slider_mark_updated = {}\n",
    "    for position in slider_mark:\n",
    "        slider_mark_updated[position] = {\n",
    "            'label': slider_mark[position],\n",
    "            'style': {'fontSize':font_size, 'font-family': 'Arial'}\n",
    "        }\n",
    "    return slider_mark_updated\n",
    "\n",
    "threshold_mark_updated = update_slider_mark(threshold_mark, 15)"
   ]
  },
  {
   "cell_type": "code",
   "execution_count": 50,
   "metadata": {
    "ExecuteTime": {
     "end_time": "2018-05-07T01:44:30.785690Z",
     "start_time": "2018-05-07T01:40:38.401807Z"
    },
    "scrolled": false
   },
   "outputs": [
    {
     "name": "stderr",
     "output_type": "stream",
     "text": [
      " * Running on http://127.0.0.1:8050/ (Press CTRL+C to quit)\n",
      "127.0.0.1 - - [06/May/2018 18:40:42] \"\u001b[37mGET / HTTP/1.1\u001b[0m\" 200 -\n",
      "127.0.0.1 - - [06/May/2018 18:40:42] \"\u001b[37mGET /_dash-layout HTTP/1.1\u001b[0m\" 200 -\n",
      "127.0.0.1 - - [06/May/2018 18:40:42] \"\u001b[37mGET /_dash-dependencies HTTP/1.1\u001b[0m\" 200 -\n",
      "127.0.0.1 - - [06/May/2018 18:40:43] \"\u001b[37mPOST /_dash-update-component HTTP/1.1\u001b[0m\" 200 -\n"
     ]
    }
   ],
   "source": [
    "app = dash.Dash()\n",
    "\n",
    "app.layout = html.Div([\n",
    "    html.Div([\n",
    "    dcc.Graph(id='graph-with-slider')\n",
    "    ],style={'marginLeft':140, 'marginRight':'auto'}),\n",
    "    html.Div([\n",
    "    html.H2('Similarity Cutoff'),\n",
    "    dcc.Slider(\n",
    "        id='threshold-slider',\n",
    "        min=min(threshold_all),\n",
    "        max=max(threshold_all),\n",
    "        value=threshold_all[int(np.floor(len(threshold_all)/2))],\n",
    "        step=None,\n",
    "        marks=threshold_mark_updated\n",
    "    )\n",
    "    ], style={'width': '47%','marginBottom': 0, 'marginTop': 0, 'marginLeft':'auto', 'marginRight':'auto',\n",
    "              'fontSize':12, 'font-family': 'Arial'})\n",
    "])\n",
    "\n",
    "\n",
    "@app.callback(dash.dependencies.Output('graph-with-slider', 'figure'),\n",
    "              [dash.dependencies.Input('threshold-slider', 'value')])\n",
    "def update_figure(selected_threshold):\n",
    "    # Work to be done: subset the Xn and Yn for given threshold\n",
    "    Xn_strip, Yn_strip, Xn_notstrip, Yn_notstrip = thresh_to_XnYn[selected_threshold]\n",
    "\n",
    "    # define a trace for plotly\n",
    "    trace_nodes1 = dict(type='scatter', \n",
    "                        x=Xn_strip, \n",
    "                        y=Yn_strip,\n",
    "                        mode='markers',\n",
    "                        marker=dict(symbol='dot', \n",
    "                                    size=10, color='rgb(255,0,0)'),\n",
    "                        name='On The Strip',\n",
    "                        showlegend=True, \n",
    "                        text = [],\n",
    "                        hoverinfo='text',\n",
    "                        visible=True)\n",
    "    trace_nodes2 = dict(type='scatter', \n",
    "                        x=Xn_notstrip, \n",
    "                        y=Yn_notstrip,\n",
    "                        mode='markers',\n",
    "                        marker=dict(symbol='dot', \n",
    "                                    size=10, color='rgb(0, 0, 255)'),\n",
    "                        name='Not on The Strip',\n",
    "                        showlegend=True, \n",
    "                        text = [],\n",
    "                        hoverinfo='text',\n",
    "                        visible=True)\n",
    "    \n",
    "    # Add labels for nodes\n",
    "    for index, row in df.iterrows():\n",
    "        # for strip restaurants\n",
    "        if index in df.index[df.is_strip == True]:\n",
    "            node_info = df.name.iloc[index] + ', ' + str(df.stars.iloc[index]) + '/5, Related to: ' + topic_closest[index]\n",
    "            trace_nodes1['text'].append(node_info)\n",
    "        # for non strip restaurants\n",
    "        if index in df.index[df.is_strip == False]:\n",
    "            node_info = df.name.iloc[index] + ', ' + str(df.stars.iloc[index]) + '/5, Related to: ' + topic_closest[index]\n",
    "            trace_nodes2['text'].append(node_info)\n",
    "        \n",
    "    \n",
    "    # record the coordinates of the ends of edges\n",
    "    Xe = []\n",
    "    Ye = []\n",
    "    G = thresh_to_graph[selected_threshold]\n",
    "    for e in G.edges():\n",
    "        pos = thresh_to_pos[selected_threshold]\n",
    "        Xe.extend([pos[e[0]][0], pos[e[1]][0], None])\n",
    "        Ye.extend([pos[e[0]][1], pos[e[1]][1], None])\n",
    "\n",
    "    # trace_edges defines the graph edges as a trace of type scatter (line)\n",
    "    trace_edges=dict(type='scatter',\n",
    "                     mode='lines',\n",
    "                     x=Xe,\n",
    "                     y=Ye,\n",
    "                     line=dict(width=0.1, color='rgb(51, 51, 51)'),\n",
    "                     hoverinfo='none', showlegend=False)\n",
    "\n",
    "    axis=dict(showline=False, # hide axis line, grid, ticklabels and  title\n",
    "              zeroline=False,\n",
    "              showgrid=False,\n",
    "              showticklabels=False,\n",
    "              title='' \n",
    "              )\n",
    "    layout=dict(title= 'Network of Restaurants based on User Reviews',  \n",
    "                font= dict(family='Arial', size=17),\n",
    "                width=1000,\n",
    "                height=800,\n",
    "                autosize=False,\n",
    "                showlegend=True,\n",
    "                xaxis=axis,\n",
    "                yaxis=axis,\n",
    "                margin=dict(\n",
    "                l=40,\n",
    "                r=40,\n",
    "                b=10,\n",
    "                t=50,\n",
    "                pad=0,\n",
    "       \n",
    "        ),\n",
    "                hovermode='closest',\n",
    "                paper_bgcolor='rgba(0,0,0,0)',\n",
    "                plot_bgcolor='rgba(0,0,0,0)'\n",
    "        )\n",
    "\n",
    "\n",
    "    return {\n",
    "        'data': [trace_edges, trace_nodes1, trace_nodes2],\n",
    "        'layout': layout}\n",
    "\n",
    "\n",
    "if __name__ == '__main__':\n",
    "    app.run_server()"
   ]
  },
  {
   "cell_type": "markdown",
   "metadata": {},
   "source": [
    "# To do:\n",
    "\n",
    "Find good values of k for each threshold value -  and set k as well when you plot"
   ]
  },
  {
   "cell_type": "code",
   "execution_count": null,
   "metadata": {},
   "outputs": [],
   "source": []
  }
 ],
 "metadata": {
  "kernelspec": {
   "display_name": "Python 3",
   "language": "python",
   "name": "python3"
  },
  "language_info": {
   "codemirror_mode": {
    "name": "ipython",
    "version": 3
   },
   "file_extension": ".py",
   "mimetype": "text/x-python",
   "name": "python",
   "nbconvert_exporter": "python",
   "pygments_lexer": "ipython3",
   "version": "3.6.4"
  },
  "toc": {
   "nav_menu": {},
   "number_sections": true,
   "sideBar": true,
   "skip_h1_title": false,
   "toc_cell": false,
   "toc_position": {},
   "toc_section_display": "block",
   "toc_window_display": false
  },
  "varInspector": {
   "cols": {
    "lenName": 16,
    "lenType": 16,
    "lenVar": 40
   },
   "kernels_config": {
    "python": {
     "delete_cmd_postfix": "",
     "delete_cmd_prefix": "del ",
     "library": "var_list.py",
     "varRefreshCmd": "print(var_dic_list())"
    },
    "r": {
     "delete_cmd_postfix": ") ",
     "delete_cmd_prefix": "rm(",
     "library": "var_list.r",
     "varRefreshCmd": "cat(var_dic_list()) "
    }
   },
   "types_to_exclude": [
    "module",
    "function",
    "builtin_function_or_method",
    "instance",
    "_Feature"
   ],
   "window_display": false
  }
 },
 "nbformat": 4,
 "nbformat_minor": 2
}
