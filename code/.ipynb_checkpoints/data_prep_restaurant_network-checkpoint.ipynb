{
 "cells": [
  {
   "cell_type": "code",
   "execution_count": 1,
   "metadata": {
    "ExecuteTime": {
     "end_time": "2018-05-10T06:43:41.488245Z",
     "start_time": "2018-05-10T06:43:37.910742Z"
    }
   },
   "outputs": [],
   "source": [
    "import dash\n",
    "from dash.dependencies import Input, Output\n",
    "import dash_html_components as html\n",
    "import dash_core_components as dcc\n",
    "import pandas as pd\n",
    "import flask\n",
    "from flask_cors import CORS\n",
    "import os\n",
    "import numpy as np\n",
    "\n",
    "from sklearn.metrics.pairwise import pairwise_distances\n",
    "from scipy.stats import entropy\n",
    "import networkx as nx"
   ]
  },
  {
   "cell_type": "code",
   "execution_count": 2,
   "metadata": {
    "ExecuteTime": {
     "end_time": "2018-05-10T06:43:41.534176Z",
     "start_time": "2018-05-10T06:43:41.490630Z"
    }
   },
   "outputs": [],
   "source": [
    "df = pd.read_csv('./small_molecule_drugbank.csv').drop(['Unnamed: 0'],axis=1)"
   ]
  },
  {
   "cell_type": "code",
   "execution_count": 3,
   "metadata": {
    "ExecuteTime": {
     "end_time": "2018-05-10T06:43:41.572887Z",
     "start_time": "2018-05-10T06:43:41.537548Z"
    }
   },
   "outputs": [
    {
     "data": {
      "text/html": [
       "<div>\n",
       "<style scoped>\n",
       "    .dataframe tbody tr th:only-of-type {\n",
       "        vertical-align: middle;\n",
       "    }\n",
       "\n",
       "    .dataframe tbody tr th {\n",
       "        vertical-align: top;\n",
       "    }\n",
       "\n",
       "    .dataframe thead th {\n",
       "        text-align: right;\n",
       "    }\n",
       "</style>\n",
       "<table border=\"1\" class=\"dataframe\">\n",
       "  <thead>\n",
       "    <tr style=\"text-align: right;\">\n",
       "      <th></th>\n",
       "      <th>NAME</th>\n",
       "      <th>PAGE</th>\n",
       "      <th>IMG_URL</th>\n",
       "      <th>LOGP</th>\n",
       "      <th>PKA</th>\n",
       "      <th>MW</th>\n",
       "      <th>FORM</th>\n",
       "      <th>SOL</th>\n",
       "      <th>DESC</th>\n",
       "    </tr>\n",
       "  </thead>\n",
       "  <tbody>\n",
       "    <tr>\n",
       "      <th>0</th>\n",
       "      <td>Cyclacillin</td>\n",
       "      <td>https://www.drugbank.ca/drugs/DB01000</td>\n",
       "      <td>https://www.drugbank.ca/structures/DB01000/thu...</td>\n",
       "      <td>1.31</td>\n",
       "      <td>3.30</td>\n",
       "      <td>341.4260</td>\n",
       "      <td>C15H23N3O4S</td>\n",
       "      <td>1.9000</td>\n",
       "      <td>A cyclohexylamido analog of penicillanic acid....</td>\n",
       "    </tr>\n",
       "    <tr>\n",
       "      <th>1</th>\n",
       "      <td>Salbutamol</td>\n",
       "      <td>https://www.drugbank.ca/drugs/DB01001</td>\n",
       "      <td>https://www.drugbank.ca/structures/DB01001/thu...</td>\n",
       "      <td>1.40</td>\n",
       "      <td>10.12</td>\n",
       "      <td>239.3107</td>\n",
       "      <td>C13H21NO3</td>\n",
       "      <td>2.1500</td>\n",
       "      <td>Salbutamol is a short-acting, selective beta2-...</td>\n",
       "    </tr>\n",
       "    <tr>\n",
       "      <th>2</th>\n",
       "      <td>Levobupivacaine</td>\n",
       "      <td>https://www.drugbank.ca/drugs/DB01002</td>\n",
       "      <td>https://www.drugbank.ca/structures/DB01002/thu...</td>\n",
       "      <td>3.60</td>\n",
       "      <td>13.62</td>\n",
       "      <td>288.4277</td>\n",
       "      <td>C18H28N2O</td>\n",
       "      <td>0.0977</td>\n",
       "      <td>Levobupivacaine is an amino-amide local anaest...</td>\n",
       "    </tr>\n",
       "    <tr>\n",
       "      <th>3</th>\n",
       "      <td>Cromoglicic acid</td>\n",
       "      <td>https://www.drugbank.ca/drugs/DB01003</td>\n",
       "      <td>https://www.drugbank.ca/structures/DB01003/thu...</td>\n",
       "      <td>1.92</td>\n",
       "      <td>1.77</td>\n",
       "      <td>468.3665</td>\n",
       "      <td>C23H16O11</td>\n",
       "      <td>0.0358</td>\n",
       "      <td>A chromone complex that acts by inhibiting the...</td>\n",
       "    </tr>\n",
       "    <tr>\n",
       "      <th>4</th>\n",
       "      <td>Ganciclovir</td>\n",
       "      <td>https://www.drugbank.ca/drugs/DB01004</td>\n",
       "      <td>https://www.drugbank.ca/structures/DB01004/thu...</td>\n",
       "      <td>-1.66</td>\n",
       "      <td>10.16</td>\n",
       "      <td>255.2306</td>\n",
       "      <td>C9H13N5O4</td>\n",
       "      <td>11.5000</td>\n",
       "      <td>An acyclovir analog that is a potent inhibitor...</td>\n",
       "    </tr>\n",
       "  </tbody>\n",
       "</table>\n",
       "</div>"
      ],
      "text/plain": [
       "               NAME                                   PAGE  \\\n",
       "0       Cyclacillin  https://www.drugbank.ca/drugs/DB01000   \n",
       "1        Salbutamol  https://www.drugbank.ca/drugs/DB01001   \n",
       "2   Levobupivacaine  https://www.drugbank.ca/drugs/DB01002   \n",
       "3  Cromoglicic acid  https://www.drugbank.ca/drugs/DB01003   \n",
       "4       Ganciclovir  https://www.drugbank.ca/drugs/DB01004   \n",
       "\n",
       "                                             IMG_URL  LOGP    PKA        MW  \\\n",
       "0  https://www.drugbank.ca/structures/DB01000/thu...  1.31   3.30  341.4260   \n",
       "1  https://www.drugbank.ca/structures/DB01001/thu...  1.40  10.12  239.3107   \n",
       "2  https://www.drugbank.ca/structures/DB01002/thu...  3.60  13.62  288.4277   \n",
       "3  https://www.drugbank.ca/structures/DB01003/thu...  1.92   1.77  468.3665   \n",
       "4  https://www.drugbank.ca/structures/DB01004/thu... -1.66  10.16  255.2306   \n",
       "\n",
       "          FORM      SOL                                               DESC  \n",
       "0  C15H23N3O4S   1.9000  A cyclohexylamido analog of penicillanic acid....  \n",
       "1    C13H21NO3   2.1500  Salbutamol is a short-acting, selective beta2-...  \n",
       "2    C18H28N2O   0.0977  Levobupivacaine is an amino-amide local anaest...  \n",
       "3    C23H16O11   0.0358  A chromone complex that acts by inhibiting the...  \n",
       "4    C9H13N5O4  11.5000  An acyclovir analog that is a potent inhibitor...  "
      ]
     },
     "execution_count": 3,
     "metadata": {},
     "output_type": "execute_result"
    }
   ],
   "source": [
    "df.head()"
   ]
  },
  {
   "cell_type": "code",
   "execution_count": 4,
   "metadata": {
    "ExecuteTime": {
     "end_time": "2018-05-10T06:43:41.646435Z",
     "start_time": "2018-05-10T06:43:41.577672Z"
    }
   },
   "outputs": [],
   "source": [
    "df_yelp = pd.read_feather('./df_final_doc2topics.feather')\n",
    "df_yelp.drop(['business_id'], axis=1, inplace=True)\n",
    "df = df.iloc[:df_yelp.shape[0]]  # reduce num of rows to be same as df_yelp\n"
   ]
  },
  {
   "cell_type": "code",
   "execution_count": 5,
   "metadata": {
    "ExecuteTime": {
     "end_time": "2018-05-10T06:43:41.655428Z",
     "start_time": "2018-05-10T06:43:41.649742Z"
    }
   },
   "outputs": [],
   "source": [
    "data = df_yelp.drop(['name', 'is_strip', 'stars'], axis=1).as_matrix()"
   ]
  },
  {
   "cell_type": "code",
   "execution_count": 6,
   "metadata": {
    "ExecuteTime": {
     "end_time": "2018-05-10T06:43:43.243444Z",
     "start_time": "2018-05-10T06:43:41.659533Z"
    }
   },
   "outputs": [],
   "source": [
    "def jensen_shannon(_P, _Q):\n",
    "    _M = 0.5 * (_P + _Q)\n",
    "    return 0.5 * (entropy(_P, _M) + entropy(_Q, _M))\n",
    "\n",
    "# Pairwise Jensen-Shannon distance between each pair of observations based on the 18 topic-probabilities\n",
    "pairwise_dist = pairwise_distances(X=data, metric=jensen_shannon)"
   ]
  },
  {
   "cell_type": "code",
   "execution_count": 7,
   "metadata": {
    "ExecuteTime": {
     "end_time": "2018-05-10T06:43:43.290564Z",
     "start_time": "2018-05-10T06:43:43.257775Z"
    }
   },
   "outputs": [],
   "source": [
    "# find the topic most closely related to each restaurant\n",
    "topic_closest_ind = np.argmax(data, axis=1)\n",
    "\n",
    "topic_names_ord = ['Cost & Quality', 'Bars', 'Casino Hotel', 'Fine Dining', 'Asian', 'Pizza', 'Steakhouse', \n",
    "                   'Italian', 'Coffee Shop', 'High Customer Satisfaction', 'Night Club', 'Wait Time', 'Mexican', \n",
    "                   'Lunch', 'Sushi', 'Fast Food', 'Breakfast', 'Low Customer Satisfaction']\n",
    "\n",
    "# names of topics most closely related to each restaurant (ordered by the order of restaurants in df)\n",
    "topic_closest = [topic_names_ord[ind] for ind in topic_closest_ind]"
   ]
  },
  {
   "cell_type": "code",
   "execution_count": 8,
   "metadata": {
    "ExecuteTime": {
     "end_time": "2018-05-10T06:43:43.324909Z",
     "start_time": "2018-05-10T06:43:43.303798Z"
    }
   },
   "outputs": [],
   "source": [
    "# find the second most closely related topic for each restaurant\n",
    "topic_closest_ind = np.argsort(data, axis=1)[::-1][:, :3]"
   ]
  },
  {
   "cell_type": "code",
   "execution_count": 9,
   "metadata": {
    "ExecuteTime": {
     "end_time": "2018-05-10T06:43:43.371706Z",
     "start_time": "2018-05-10T06:43:43.333369Z"
    },
    "scrolled": true
   },
   "outputs": [
    {
     "data": {
      "text/plain": [
       "array([[ 0,  5, 13],\n",
       "       [ 7, 11,  3],\n",
       "       [ 1,  3,  7],\n",
       "       [ 9,  4,  3],\n",
       "       [ 9,  0,  7],\n",
       "       [ 8,  2,  7],\n",
       "       [14,  6,  8],\n",
       "       [ 4,  0,  7],\n",
       "       [ 6, 11,  2],\n",
       "       [ 8,  2,  4],\n",
       "       [ 0,  5,  7],\n",
       "       [15,  6,  7],\n",
       "       [ 9,  7,  5],\n",
       "       [ 0,  1,  3],\n",
       "       [17,  7,  9],\n",
       "       [ 9,  5,  2],\n",
       "       [ 4,  7, 12],\n",
       "       [ 6, 12, 16],\n",
       "       [11,  5,  8],\n",
       "       [ 2, 11,  7],\n",
       "       [11,  3, 17],\n",
       "       [ 0, 14,  7],\n",
       "       [ 7,  4, 13],\n",
       "       [ 4,  6,  5],\n",
       "       [ 6,  8, 10],\n",
       "       [17,  2,  9],\n",
       "       [ 1,  5,  6],\n",
       "       [14,  7,  9],\n",
       "       [ 7,  9,  2],\n",
       "       [ 6,  7,  5],\n",
       "       [ 0, 14,  3],\n",
       "       [ 2,  7,  0],\n",
       "       [ 6,  4,  5],\n",
       "       [ 9,  4, 17],\n",
       "       [ 4, 14,  3],\n",
       "       [16,  3,  4],\n",
       "       [ 7,  3,  5],\n",
       "       [ 4, 12, 14],\n",
       "       [ 7,  6,  5],\n",
       "       [ 6,  1,  5],\n",
       "       [ 5,  6,  2],\n",
       "       [ 9, 14,  0],\n",
       "       [ 6,  5,  1],\n",
       "       [ 4,  5,  6],\n",
       "       [ 6,  7,  3],\n",
       "       [ 2,  9,  6],\n",
       "       [12,  7,  2],\n",
       "       [13,  5,  8],\n",
       "       [ 7, 12,  3],\n",
       "       [ 8, 14, 11],\n",
       "       [ 2, 14,  4],\n",
       "       [ 0,  9,  4],\n",
       "       [ 1,  5,  7],\n",
       "       [ 7,  4,  6],\n",
       "       [ 7,  9,  0],\n",
       "       [ 0,  3,  6],\n",
       "       [ 5, 17,  9],\n",
       "       [13, 14,  6],\n",
       "       [14,  3,  4],\n",
       "       [ 2,  4,  5],\n",
       "       [ 2,  5, 17],\n",
       "       [ 9,  7, 12],\n",
       "       [ 7,  9,  8],\n",
       "       [ 3, 11,  4],\n",
       "       [ 4, 17,  2],\n",
       "       [ 6,  7,  1],\n",
       "       [ 2,  9,  5],\n",
       "       [ 6,  2,  7],\n",
       "       [ 0,  6, 11],\n",
       "       [ 3, 11,  7],\n",
       "       [ 0,  4,  5],\n",
       "       [ 2,  7,  6],\n",
       "       [12,  7, 11],\n",
       "       [15,  9,  6],\n",
       "       [15,  4,  9],\n",
       "       [ 9,  0,  4],\n",
       "       [14,  0,  4],\n",
       "       [14, 11, 12],\n",
       "       [ 0, 12,  5],\n",
       "       [ 5,  8, 13],\n",
       "       [ 1,  3,  7],\n",
       "       [ 4,  9,  7],\n",
       "       [ 7,  6, 14],\n",
       "       [ 4,  2,  7],\n",
       "       [ 6,  1,  7],\n",
       "       [ 9,  7, 16],\n",
       "       [ 2,  6,  7],\n",
       "       [ 4,  7,  5],\n",
       "       [ 0, 12,  7],\n",
       "       [17,  4,  8],\n",
       "       [ 0,  9, 12],\n",
       "       [ 8,  9,  4],\n",
       "       [ 1,  7,  4],\n",
       "       [ 5,  6,  2],\n",
       "       [17, 16,  6],\n",
       "       [17, 12,  1],\n",
       "       [ 5, 17, 13],\n",
       "       [13,  4,  0],\n",
       "       [ 8,  6, 12],\n",
       "       [ 6, 15,  5],\n",
       "       [ 6,  0,  8],\n",
       "       [ 4,  5,  9],\n",
       "       [ 7,  1, 12],\n",
       "       [ 1,  6,  5],\n",
       "       [14,  9,  6],\n",
       "       [ 1, 14,  7],\n",
       "       [ 7, 11,  3],\n",
       "       [ 8, 13,  7],\n",
       "       [ 5,  4,  8],\n",
       "       [ 2, 13,  4],\n",
       "       [ 6,  0,  7],\n",
       "       [ 0,  5,  7],\n",
       "       [ 4,  9,  7],\n",
       "       [14,  1,  6],\n",
       "       [ 2,  6,  0],\n",
       "       [ 9,  2,  5],\n",
       "       [11,  6,  4],\n",
       "       [ 0,  9,  4],\n",
       "       [17, 16, 13],\n",
       "       [ 5,  6,  7],\n",
       "       [ 7, 12, 11],\n",
       "       [ 5,  2,  3],\n",
       "       [ 6,  5,  7],\n",
       "       [ 2,  6,  9],\n",
       "       [ 4,  2,  9],\n",
       "       [11,  9,  0],\n",
       "       [ 7,  9,  0],\n",
       "       [17,  7, 14],\n",
       "       [14,  4,  6],\n",
       "       [ 0,  7,  6],\n",
       "       [ 7,  6,  2],\n",
       "       [17,  2,  6],\n",
       "       [ 6,  7,  1],\n",
       "       [ 0,  1,  6],\n",
       "       [13,  2,  9],\n",
       "       [ 0,  3,  4],\n",
       "       [ 1,  7,  9],\n",
       "       [ 9, 17,  8],\n",
       "       [ 6,  9,  8],\n",
       "       [ 5, 11, 13],\n",
       "       [17, 10, 14],\n",
       "       [ 7,  4,  6],\n",
       "       [ 7,  9,  8],\n",
       "       [14,  4,  2],\n",
       "       [ 7, 14,  3],\n",
       "       [ 5,  6,  7],\n",
       "       [15, 14, 10],\n",
       "       [17,  5, 16],\n",
       "       [ 7,  9, 10],\n",
       "       [ 6,  9, 14],\n",
       "       [ 4, 12,  0],\n",
       "       [14,  9, 12],\n",
       "       [ 0,  9,  2],\n",
       "       [ 6,  7, 10],\n",
       "       [ 9,  4, 10],\n",
       "       [14,  2, 12],\n",
       "       [17,  9,  5],\n",
       "       [ 9,  8,  6],\n",
       "       [ 6,  5,  9],\n",
       "       [13,  6,  9],\n",
       "       [ 1, 12,  2],\n",
       "       [ 1,  9,  8],\n",
       "       [ 9,  8,  6],\n",
       "       [ 0, 14, 11],\n",
       "       [ 6,  5,  8],\n",
       "       [ 5,  6,  7],\n",
       "       [ 6,  7, 14],\n",
       "       [ 9, 12,  6],\n",
       "       [ 2,  5, 13],\n",
       "       [ 8,  2,  5],\n",
       "       [ 1,  2,  7],\n",
       "       [ 7,  9, 12],\n",
       "       [ 3,  7,  6],\n",
       "       [ 8,  3, 11],\n",
       "       [ 0,  7,  4],\n",
       "       [ 4,  2,  0],\n",
       "       [ 0,  3, 14],\n",
       "       [ 4,  9,  0],\n",
       "       [ 9, 14,  3],\n",
       "       [ 7,  4, 14],\n",
       "       [ 3, 12, 11],\n",
       "       [17, 16,  6],\n",
       "       [ 7, 14, 13],\n",
       "       [ 7, 10, 12],\n",
       "       [ 1,  6,  5],\n",
       "       [ 6,  9, 11],\n",
       "       [ 6, 13,  8],\n",
       "       [ 9, 14,  6],\n",
       "       [ 0,  4,  2],\n",
       "       [ 9,  7,  3],\n",
       "       [ 2, 15,  3],\n",
       "       [ 8, 14,  4],\n",
       "       [17, 15, 16],\n",
       "       [ 2,  7,  5],\n",
       "       [14, 10, 11],\n",
       "       [ 0, 14,  9],\n",
       "       [ 7,  0,  9],\n",
       "       [ 7,  9, 14],\n",
       "       [ 3,  6,  7],\n",
       "       [ 5, 10,  8],\n",
       "       [ 0,  7,  9],\n",
       "       [ 6,  7,  5],\n",
       "       [ 8, 11,  3],\n",
       "       [ 3,  4, 13],\n",
       "       [ 1,  7, 14],\n",
       "       [ 6,  7, 16],\n",
       "       [15,  7, 10],\n",
       "       [ 8, 15,  6],\n",
       "       [ 7, 12,  5],\n",
       "       [17,  6,  2],\n",
       "       [ 1,  6,  7],\n",
       "       [ 1,  7,  2],\n",
       "       [ 4,  7, 10],\n",
       "       [ 6,  7, 12],\n",
       "       [ 0,  4,  5],\n",
       "       [ 7,  9,  3],\n",
       "       [ 0, 14,  5],\n",
       "       [ 8,  1, 12],\n",
       "       [ 4,  9,  0],\n",
       "       [ 8, 12, 14],\n",
       "       [ 0,  4, 12],\n",
       "       [ 7,  3,  5],\n",
       "       [ 7, 16,  6],\n",
       "       [ 2,  9,  4],\n",
       "       [ 7,  3, 11],\n",
       "       [ 5,  8, 15],\n",
       "       [ 2, 17, 14],\n",
       "       [ 2, 17,  9],\n",
       "       [ 4, 12,  0],\n",
       "       [14,  3, 11],\n",
       "       [ 9,  4,  2],\n",
       "       [ 2, 13,  9],\n",
       "       [ 4,  5,  7],\n",
       "       [ 7,  9, 11],\n",
       "       [ 4,  0,  9],\n",
       "       [ 6,  0,  2],\n",
       "       [10, 11,  8]])"
      ]
     },
     "execution_count": 9,
     "metadata": {},
     "output_type": "execute_result"
    }
   ],
   "source": [
    "topic_closest_ind"
   ]
  },
  {
   "cell_type": "code",
   "execution_count": 10,
   "metadata": {
    "ExecuteTime": {
     "end_time": "2018-05-10T06:43:43.412687Z",
     "start_time": "2018-05-10T06:43:43.381286Z"
    }
   },
   "outputs": [],
   "source": [
    "topic_names_ord = ['Cost & Quality', 'Bars', 'Casino Hotel', 'Fine Dining', 'Asian', 'Pizza', 'Steakhouse', \n",
    "                   'Italian', 'Coffee Shop', 'High Customer Satisfaction', 'Night Club', 'Wait Time', 'Mexican', \n",
    "                   'Lunch', 'Sushi Restaurant', 'Fast Food', 'Breakfast', 'Low Customer Satisfaction']\n",
    "\n",
    "# names of topics most closely related to each restaurant (ordered by the order of restaurants in df)\n",
    "topic_closest = [[topic_names_ord[ind] for ind in rest] for rest in topic_closest_ind]\n",
    "# topic_closest = [topic_names_ord[ind] for ind in topic_closest_ind]"
   ]
  },
  {
   "cell_type": "code",
   "execution_count": 11,
   "metadata": {
    "ExecuteTime": {
     "end_time": "2018-05-10T06:43:43.472033Z",
     "start_time": "2018-05-10T06:43:43.416233Z"
    },
    "scrolled": true
   },
   "outputs": [
    {
     "data": {
      "text/plain": [
       "[['Cost & Quality', 'Pizza', 'Lunch'],\n",
       " ['Italian', 'Wait Time', 'Fine Dining'],\n",
       " ['Bars', 'Fine Dining', 'Italian'],\n",
       " ['High Customer Satisfaction', 'Asian', 'Fine Dining'],\n",
       " ['High Customer Satisfaction', 'Cost & Quality', 'Italian'],\n",
       " ['Coffee Shop', 'Casino Hotel', 'Italian'],\n",
       " ['Sushi Restaurant', 'Steakhouse', 'Coffee Shop'],\n",
       " ['Asian', 'Cost & Quality', 'Italian'],\n",
       " ['Steakhouse', 'Wait Time', 'Casino Hotel'],\n",
       " ['Coffee Shop', 'Casino Hotel', 'Asian'],\n",
       " ['Cost & Quality', 'Pizza', 'Italian'],\n",
       " ['Fast Food', 'Steakhouse', 'Italian'],\n",
       " ['High Customer Satisfaction', 'Italian', 'Pizza'],\n",
       " ['Cost & Quality', 'Bars', 'Fine Dining'],\n",
       " ['Low Customer Satisfaction', 'Italian', 'High Customer Satisfaction'],\n",
       " ['High Customer Satisfaction', 'Pizza', 'Casino Hotel'],\n",
       " ['Asian', 'Italian', 'Mexican'],\n",
       " ['Steakhouse', 'Mexican', 'Breakfast'],\n",
       " ['Wait Time', 'Pizza', 'Coffee Shop'],\n",
       " ['Casino Hotel', 'Wait Time', 'Italian'],\n",
       " ['Wait Time', 'Fine Dining', 'Low Customer Satisfaction'],\n",
       " ['Cost & Quality', 'Sushi Restaurant', 'Italian'],\n",
       " ['Italian', 'Asian', 'Lunch'],\n",
       " ['Asian', 'Steakhouse', 'Pizza'],\n",
       " ['Steakhouse', 'Coffee Shop', 'Night Club'],\n",
       " ['Low Customer Satisfaction', 'Casino Hotel', 'High Customer Satisfaction'],\n",
       " ['Bars', 'Pizza', 'Steakhouse'],\n",
       " ['Sushi Restaurant', 'Italian', 'High Customer Satisfaction'],\n",
       " ['Italian', 'High Customer Satisfaction', 'Casino Hotel'],\n",
       " ['Steakhouse', 'Italian', 'Pizza'],\n",
       " ['Cost & Quality', 'Sushi Restaurant', 'Fine Dining'],\n",
       " ['Casino Hotel', 'Italian', 'Cost & Quality'],\n",
       " ['Steakhouse', 'Asian', 'Pizza'],\n",
       " ['High Customer Satisfaction', 'Asian', 'Low Customer Satisfaction'],\n",
       " ['Asian', 'Sushi Restaurant', 'Fine Dining'],\n",
       " ['Breakfast', 'Fine Dining', 'Asian'],\n",
       " ['Italian', 'Fine Dining', 'Pizza'],\n",
       " ['Asian', 'Mexican', 'Sushi Restaurant'],\n",
       " ['Italian', 'Steakhouse', 'Pizza'],\n",
       " ['Steakhouse', 'Bars', 'Pizza'],\n",
       " ['Pizza', 'Steakhouse', 'Casino Hotel'],\n",
       " ['High Customer Satisfaction', 'Sushi Restaurant', 'Cost & Quality'],\n",
       " ['Steakhouse', 'Pizza', 'Bars'],\n",
       " ['Asian', 'Pizza', 'Steakhouse'],\n",
       " ['Steakhouse', 'Italian', 'Fine Dining'],\n",
       " ['Casino Hotel', 'High Customer Satisfaction', 'Steakhouse'],\n",
       " ['Mexican', 'Italian', 'Casino Hotel'],\n",
       " ['Lunch', 'Pizza', 'Coffee Shop'],\n",
       " ['Italian', 'Mexican', 'Fine Dining'],\n",
       " ['Coffee Shop', 'Sushi Restaurant', 'Wait Time'],\n",
       " ['Casino Hotel', 'Sushi Restaurant', 'Asian'],\n",
       " ['Cost & Quality', 'High Customer Satisfaction', 'Asian'],\n",
       " ['Bars', 'Pizza', 'Italian'],\n",
       " ['Italian', 'Asian', 'Steakhouse'],\n",
       " ['Italian', 'High Customer Satisfaction', 'Cost & Quality'],\n",
       " ['Cost & Quality', 'Fine Dining', 'Steakhouse'],\n",
       " ['Pizza', 'Low Customer Satisfaction', 'High Customer Satisfaction'],\n",
       " ['Lunch', 'Sushi Restaurant', 'Steakhouse'],\n",
       " ['Sushi Restaurant', 'Fine Dining', 'Asian'],\n",
       " ['Casino Hotel', 'Asian', 'Pizza'],\n",
       " ['Casino Hotel', 'Pizza', 'Low Customer Satisfaction'],\n",
       " ['High Customer Satisfaction', 'Italian', 'Mexican'],\n",
       " ['Italian', 'High Customer Satisfaction', 'Coffee Shop'],\n",
       " ['Fine Dining', 'Wait Time', 'Asian'],\n",
       " ['Asian', 'Low Customer Satisfaction', 'Casino Hotel'],\n",
       " ['Steakhouse', 'Italian', 'Bars'],\n",
       " ['Casino Hotel', 'High Customer Satisfaction', 'Pizza'],\n",
       " ['Steakhouse', 'Casino Hotel', 'Italian'],\n",
       " ['Cost & Quality', 'Steakhouse', 'Wait Time'],\n",
       " ['Fine Dining', 'Wait Time', 'Italian'],\n",
       " ['Cost & Quality', 'Asian', 'Pizza'],\n",
       " ['Casino Hotel', 'Italian', 'Steakhouse'],\n",
       " ['Mexican', 'Italian', 'Wait Time'],\n",
       " ['Fast Food', 'High Customer Satisfaction', 'Steakhouse'],\n",
       " ['Fast Food', 'Asian', 'High Customer Satisfaction'],\n",
       " ['High Customer Satisfaction', 'Cost & Quality', 'Asian'],\n",
       " ['Sushi Restaurant', 'Cost & Quality', 'Asian'],\n",
       " ['Sushi Restaurant', 'Wait Time', 'Mexican'],\n",
       " ['Cost & Quality', 'Mexican', 'Pizza'],\n",
       " ['Pizza', 'Coffee Shop', 'Lunch'],\n",
       " ['Bars', 'Fine Dining', 'Italian'],\n",
       " ['Asian', 'High Customer Satisfaction', 'Italian'],\n",
       " ['Italian', 'Steakhouse', 'Sushi Restaurant'],\n",
       " ['Asian', 'Casino Hotel', 'Italian'],\n",
       " ['Steakhouse', 'Bars', 'Italian'],\n",
       " ['High Customer Satisfaction', 'Italian', 'Breakfast'],\n",
       " ['Casino Hotel', 'Steakhouse', 'Italian'],\n",
       " ['Asian', 'Italian', 'Pizza'],\n",
       " ['Cost & Quality', 'Mexican', 'Italian'],\n",
       " ['Low Customer Satisfaction', 'Asian', 'Coffee Shop'],\n",
       " ['Cost & Quality', 'High Customer Satisfaction', 'Mexican'],\n",
       " ['Coffee Shop', 'High Customer Satisfaction', 'Asian'],\n",
       " ['Bars', 'Italian', 'Asian'],\n",
       " ['Pizza', 'Steakhouse', 'Casino Hotel'],\n",
       " ['Low Customer Satisfaction', 'Breakfast', 'Steakhouse'],\n",
       " ['Low Customer Satisfaction', 'Mexican', 'Bars'],\n",
       " ['Pizza', 'Low Customer Satisfaction', 'Lunch'],\n",
       " ['Lunch', 'Asian', 'Cost & Quality'],\n",
       " ['Coffee Shop', 'Steakhouse', 'Mexican'],\n",
       " ['Steakhouse', 'Fast Food', 'Pizza'],\n",
       " ['Steakhouse', 'Cost & Quality', 'Coffee Shop'],\n",
       " ['Asian', 'Pizza', 'High Customer Satisfaction'],\n",
       " ['Italian', 'Bars', 'Mexican'],\n",
       " ['Bars', 'Steakhouse', 'Pizza'],\n",
       " ['Sushi Restaurant', 'High Customer Satisfaction', 'Steakhouse'],\n",
       " ['Bars', 'Sushi Restaurant', 'Italian'],\n",
       " ['Italian', 'Wait Time', 'Fine Dining'],\n",
       " ['Coffee Shop', 'Lunch', 'Italian'],\n",
       " ['Pizza', 'Asian', 'Coffee Shop'],\n",
       " ['Casino Hotel', 'Lunch', 'Asian'],\n",
       " ['Steakhouse', 'Cost & Quality', 'Italian'],\n",
       " ['Cost & Quality', 'Pizza', 'Italian'],\n",
       " ['Asian', 'High Customer Satisfaction', 'Italian'],\n",
       " ['Sushi Restaurant', 'Bars', 'Steakhouse'],\n",
       " ['Casino Hotel', 'Steakhouse', 'Cost & Quality'],\n",
       " ['High Customer Satisfaction', 'Casino Hotel', 'Pizza'],\n",
       " ['Wait Time', 'Steakhouse', 'Asian'],\n",
       " ['Cost & Quality', 'High Customer Satisfaction', 'Asian'],\n",
       " ['Low Customer Satisfaction', 'Breakfast', 'Lunch'],\n",
       " ['Pizza', 'Steakhouse', 'Italian'],\n",
       " ['Italian', 'Mexican', 'Wait Time'],\n",
       " ['Pizza', 'Casino Hotel', 'Fine Dining'],\n",
       " ['Steakhouse', 'Pizza', 'Italian'],\n",
       " ['Casino Hotel', 'Steakhouse', 'High Customer Satisfaction'],\n",
       " ['Asian', 'Casino Hotel', 'High Customer Satisfaction'],\n",
       " ['Wait Time', 'High Customer Satisfaction', 'Cost & Quality'],\n",
       " ['Italian', 'High Customer Satisfaction', 'Cost & Quality'],\n",
       " ['Low Customer Satisfaction', 'Italian', 'Sushi Restaurant'],\n",
       " ['Sushi Restaurant', 'Asian', 'Steakhouse'],\n",
       " ['Cost & Quality', 'Italian', 'Steakhouse'],\n",
       " ['Italian', 'Steakhouse', 'Casino Hotel'],\n",
       " ['Low Customer Satisfaction', 'Casino Hotel', 'Steakhouse'],\n",
       " ['Steakhouse', 'Italian', 'Bars'],\n",
       " ['Cost & Quality', 'Bars', 'Steakhouse'],\n",
       " ['Lunch', 'Casino Hotel', 'High Customer Satisfaction'],\n",
       " ['Cost & Quality', 'Fine Dining', 'Asian'],\n",
       " ['Bars', 'Italian', 'High Customer Satisfaction'],\n",
       " ['High Customer Satisfaction', 'Low Customer Satisfaction', 'Coffee Shop'],\n",
       " ['Steakhouse', 'High Customer Satisfaction', 'Coffee Shop'],\n",
       " ['Pizza', 'Wait Time', 'Lunch'],\n",
       " ['Low Customer Satisfaction', 'Night Club', 'Sushi Restaurant'],\n",
       " ['Italian', 'Asian', 'Steakhouse'],\n",
       " ['Italian', 'High Customer Satisfaction', 'Coffee Shop'],\n",
       " ['Sushi Restaurant', 'Asian', 'Casino Hotel'],\n",
       " ['Italian', 'Sushi Restaurant', 'Fine Dining'],\n",
       " ['Pizza', 'Steakhouse', 'Italian'],\n",
       " ['Fast Food', 'Sushi Restaurant', 'Night Club'],\n",
       " ['Low Customer Satisfaction', 'Pizza', 'Breakfast'],\n",
       " ['Italian', 'High Customer Satisfaction', 'Night Club'],\n",
       " ['Steakhouse', 'High Customer Satisfaction', 'Sushi Restaurant'],\n",
       " ['Asian', 'Mexican', 'Cost & Quality'],\n",
       " ['Sushi Restaurant', 'High Customer Satisfaction', 'Mexican'],\n",
       " ['Cost & Quality', 'High Customer Satisfaction', 'Casino Hotel'],\n",
       " ['Steakhouse', 'Italian', 'Night Club'],\n",
       " ['High Customer Satisfaction', 'Asian', 'Night Club'],\n",
       " ['Sushi Restaurant', 'Casino Hotel', 'Mexican'],\n",
       " ['Low Customer Satisfaction', 'High Customer Satisfaction', 'Pizza'],\n",
       " ['High Customer Satisfaction', 'Coffee Shop', 'Steakhouse'],\n",
       " ['Steakhouse', 'Pizza', 'High Customer Satisfaction'],\n",
       " ['Lunch', 'Steakhouse', 'High Customer Satisfaction'],\n",
       " ['Bars', 'Mexican', 'Casino Hotel'],\n",
       " ['Bars', 'High Customer Satisfaction', 'Coffee Shop'],\n",
       " ['High Customer Satisfaction', 'Coffee Shop', 'Steakhouse'],\n",
       " ['Cost & Quality', 'Sushi Restaurant', 'Wait Time'],\n",
       " ['Steakhouse', 'Pizza', 'Coffee Shop'],\n",
       " ['Pizza', 'Steakhouse', 'Italian'],\n",
       " ['Steakhouse', 'Italian', 'Sushi Restaurant'],\n",
       " ['High Customer Satisfaction', 'Mexican', 'Steakhouse'],\n",
       " ['Casino Hotel', 'Pizza', 'Lunch'],\n",
       " ['Coffee Shop', 'Casino Hotel', 'Pizza'],\n",
       " ['Bars', 'Casino Hotel', 'Italian'],\n",
       " ['Italian', 'High Customer Satisfaction', 'Mexican'],\n",
       " ['Fine Dining', 'Italian', 'Steakhouse'],\n",
       " ['Coffee Shop', 'Fine Dining', 'Wait Time'],\n",
       " ['Cost & Quality', 'Italian', 'Asian'],\n",
       " ['Asian', 'Casino Hotel', 'Cost & Quality'],\n",
       " ['Cost & Quality', 'Fine Dining', 'Sushi Restaurant'],\n",
       " ['Asian', 'High Customer Satisfaction', 'Cost & Quality'],\n",
       " ['High Customer Satisfaction', 'Sushi Restaurant', 'Fine Dining'],\n",
       " ['Italian', 'Asian', 'Sushi Restaurant'],\n",
       " ['Fine Dining', 'Mexican', 'Wait Time'],\n",
       " ['Low Customer Satisfaction', 'Breakfast', 'Steakhouse'],\n",
       " ['Italian', 'Sushi Restaurant', 'Lunch'],\n",
       " ['Italian', 'Night Club', 'Mexican'],\n",
       " ['Bars', 'Steakhouse', 'Pizza'],\n",
       " ['Steakhouse', 'High Customer Satisfaction', 'Wait Time'],\n",
       " ['Steakhouse', 'Lunch', 'Coffee Shop'],\n",
       " ['High Customer Satisfaction', 'Sushi Restaurant', 'Steakhouse'],\n",
       " ['Cost & Quality', 'Asian', 'Casino Hotel'],\n",
       " ['High Customer Satisfaction', 'Italian', 'Fine Dining'],\n",
       " ['Casino Hotel', 'Fast Food', 'Fine Dining'],\n",
       " ['Coffee Shop', 'Sushi Restaurant', 'Asian'],\n",
       " ['Low Customer Satisfaction', 'Fast Food', 'Breakfast'],\n",
       " ['Casino Hotel', 'Italian', 'Pizza'],\n",
       " ['Sushi Restaurant', 'Night Club', 'Wait Time'],\n",
       " ['Cost & Quality', 'Sushi Restaurant', 'High Customer Satisfaction'],\n",
       " ['Italian', 'Cost & Quality', 'High Customer Satisfaction'],\n",
       " ['Italian', 'High Customer Satisfaction', 'Sushi Restaurant'],\n",
       " ['Fine Dining', 'Steakhouse', 'Italian'],\n",
       " ['Pizza', 'Night Club', 'Coffee Shop'],\n",
       " ['Cost & Quality', 'Italian', 'High Customer Satisfaction'],\n",
       " ['Steakhouse', 'Italian', 'Pizza'],\n",
       " ['Coffee Shop', 'Wait Time', 'Fine Dining'],\n",
       " ['Fine Dining', 'Asian', 'Lunch'],\n",
       " ['Bars', 'Italian', 'Sushi Restaurant'],\n",
       " ['Steakhouse', 'Italian', 'Breakfast'],\n",
       " ['Fast Food', 'Italian', 'Night Club'],\n",
       " ['Coffee Shop', 'Fast Food', 'Steakhouse'],\n",
       " ['Italian', 'Mexican', 'Pizza'],\n",
       " ['Low Customer Satisfaction', 'Steakhouse', 'Casino Hotel'],\n",
       " ['Bars', 'Steakhouse', 'Italian'],\n",
       " ['Bars', 'Italian', 'Casino Hotel'],\n",
       " ['Asian', 'Italian', 'Night Club'],\n",
       " ['Steakhouse', 'Italian', 'Mexican'],\n",
       " ['Cost & Quality', 'Asian', 'Pizza'],\n",
       " ['Italian', 'High Customer Satisfaction', 'Fine Dining'],\n",
       " ['Cost & Quality', 'Sushi Restaurant', 'Pizza'],\n",
       " ['Coffee Shop', 'Bars', 'Mexican'],\n",
       " ['Asian', 'High Customer Satisfaction', 'Cost & Quality'],\n",
       " ['Coffee Shop', 'Mexican', 'Sushi Restaurant'],\n",
       " ['Cost & Quality', 'Asian', 'Mexican'],\n",
       " ['Italian', 'Fine Dining', 'Pizza'],\n",
       " ['Italian', 'Breakfast', 'Steakhouse'],\n",
       " ['Casino Hotel', 'High Customer Satisfaction', 'Asian'],\n",
       " ['Italian', 'Fine Dining', 'Wait Time'],\n",
       " ['Pizza', 'Coffee Shop', 'Fast Food'],\n",
       " ['Casino Hotel', 'Low Customer Satisfaction', 'Sushi Restaurant'],\n",
       " ['Casino Hotel', 'Low Customer Satisfaction', 'High Customer Satisfaction'],\n",
       " ['Asian', 'Mexican', 'Cost & Quality'],\n",
       " ['Sushi Restaurant', 'Fine Dining', 'Wait Time'],\n",
       " ['High Customer Satisfaction', 'Asian', 'Casino Hotel'],\n",
       " ['Casino Hotel', 'Lunch', 'High Customer Satisfaction'],\n",
       " ['Asian', 'Pizza', 'Italian'],\n",
       " ['Italian', 'High Customer Satisfaction', 'Wait Time'],\n",
       " ['Asian', 'Cost & Quality', 'High Customer Satisfaction'],\n",
       " ['Steakhouse', 'Cost & Quality', 'Casino Hotel'],\n",
       " ['Night Club', 'Wait Time', 'Coffee Shop']]"
      ]
     },
     "execution_count": 11,
     "metadata": {},
     "output_type": "execute_result"
    }
   ],
   "source": [
    "topic_closest"
   ]
  },
  {
   "cell_type": "code",
   "execution_count": 12,
   "metadata": {
    "ExecuteTime": {
     "end_time": "2018-05-10T06:43:44.323739Z",
     "start_time": "2018-05-10T06:43:43.483052Z"
    }
   },
   "outputs": [],
   "source": [
    "vis = pd.read_pickle('vis.pkl')"
   ]
  },
  {
   "cell_type": "code",
   "execution_count": 13,
   "metadata": {
    "ExecuteTime": {
     "end_time": "2018-05-10T06:43:44.389820Z",
     "start_time": "2018-05-10T06:43:44.331880Z"
    }
   },
   "outputs": [],
   "source": [
    "def get_relevant_words(vis,lam=0.3,topn=10):\n",
    "    a = vis.topic_info\n",
    "    a['finalscore'] = a['logprob']*lam+(1-lam)*a['loglift']\n",
    "    a = a.loc[:,['Category','Term','finalscore']].groupby(['Category'])\\\n",
    "    .apply(lambda x: x.sort_values(by='finalscore',ascending=False).head(topn))\n",
    "    a = a.loc[:,'Term'].reset_index().loc[:,['Category','Term']]\n",
    "    a = a[a['Category']!='Default']\n",
    "    a = a.to_dict('split')['data']\n",
    "    d ={}\n",
    "    for k,v in a: \n",
    "        if k not in d.keys():\n",
    "            d[k] =set()\n",
    "            d[k].add(v)\n",
    "        else:\n",
    "            d[k].add(v)\n",
    "    finalData = pd.DataFrame([],columns=['Topic','words with Relevance'])\n",
    "    finalData['Topic']=d.keys()\n",
    "    finalData['words with Relevance']=d.values()\n",
    "    return finalData"
   ]
  },
  {
   "cell_type": "code",
   "execution_count": 14,
   "metadata": {
    "ExecuteTime": {
     "end_time": "2018-05-10T06:43:44.461754Z",
     "start_time": "2018-05-10T06:43:44.397274Z"
    }
   },
   "outputs": [],
   "source": [
    "def get_top_n_words_list(num_topics, vis, lam=0.6, topn=5):\n",
    "    \"\"\"returns a sorted list of top n words, where the list follows the order Topic 1, ..., Topic n.\n",
    "    Each element of the list is a string composed of a list of the top n words\n",
    "    num_topics: number of topics\n",
    "    vis: pyLDAvis object\n",
    "    lam: relevance value\n",
    "    topn: number of topics\n",
    "    \"\"\"\n",
    "    topic_ids_ordered = ['Topic' + str(num) for num in range(1, num_topics + 1)]\n",
    "    top_topic_words_df = get_relevant_words(vis, lam, topn)\n",
    "    top_topic_words_df.set_index('Topic', drop=True, inplace=True)\n",
    "    top_topic_words = [top_topic_words_df.loc[topic_id]['words with Relevance'] for topic_id in topic_ids_ordered]\n",
    "    top_topic_words_display = [', '.join(words) for words in top_topic_words]\n",
    "    return top_topic_words_display"
   ]
  },
  {
   "cell_type": "code",
   "execution_count": 15,
   "metadata": {
    "ExecuteTime": {
     "end_time": "2018-05-10T06:43:44.757129Z",
     "start_time": "2018-05-10T06:43:44.490125Z"
    }
   },
   "outputs": [
    {
     "data": {
      "text/plain": [
       "18"
      ]
     },
     "execution_count": 15,
     "metadata": {},
     "output_type": "execute_result"
    }
   ],
   "source": [
    "# sample usage and output\n",
    "len(get_top_n_words_list(num_topics=18, vis=vis, lam=0.6, topn=3))"
   ]
  },
  {
   "cell_type": "code",
   "execution_count": 16,
   "metadata": {
    "ExecuteTime": {
     "end_time": "2018-05-10T06:43:44.828271Z",
     "start_time": "2018-05-10T06:43:44.766069Z"
    }
   },
   "outputs": [],
   "source": [
    "top3words = get_top_n_words_list(num_topics=18, vis=vis, lam=0.6, topn=3)"
   ]
  },
  {
   "cell_type": "code",
   "execution_count": 17,
   "metadata": {
    "ExecuteTime": {
     "end_time": "2018-05-10T06:43:44.848605Z",
     "start_time": "2018-05-10T06:43:44.832406Z"
    },
    "scrolled": true
   },
   "outputs": [
    {
     "data": {
      "text/plain": [
       "['food, good, price',\n",
       " 'drink, beer, bar',\n",
       " 'hotel, stay, buffet',\n",
       " 'restaurant, dinner, dessert',\n",
       " 'noodle, thai, rice',\n",
       " 'slice, wing, pizza',\n",
       " 'steakhouse, cook, steak',\n",
       " 'salad, pasta, bread',\n",
       " 'coffee, tea, chocolate',\n",
       " 'food, service, great',\n",
       " 'business, door, walk',\n",
       " 'minute, table, wait',\n",
       " 'taco, burrito, mexican',\n",
       " 'lunch, location, place',\n",
       " 'roll, fish, sushi',\n",
       " 'burger, fry, shake',\n",
       " 'egg, chicken, sandwich',\n",
       " 'tell, order, bad']"
      ]
     },
     "execution_count": 17,
     "metadata": {},
     "output_type": "execute_result"
    }
   ],
   "source": [
    "top3words"
   ]
  },
  {
   "cell_type": "code",
   "execution_count": 18,
   "metadata": {
    "ExecuteTime": {
     "end_time": "2018-05-10T06:43:44.896226Z",
     "start_time": "2018-05-10T06:43:44.862189Z"
    }
   },
   "outputs": [
    {
     "data": {
      "text/plain": [
       "['Cost & Quality',\n",
       " 'Bars',\n",
       " 'Casino Hotel',\n",
       " 'Fine Dining',\n",
       " 'Asian',\n",
       " 'Pizza',\n",
       " 'Steakhouse',\n",
       " 'Italian',\n",
       " 'Coffee Shop',\n",
       " 'High Customer Satisfaction',\n",
       " 'Night Club',\n",
       " 'Wait Time',\n",
       " 'Mexican',\n",
       " 'Lunch',\n",
       " 'Sushi Restaurant',\n",
       " 'Fast Food',\n",
       " 'Breakfast',\n",
       " 'Low Customer Satisfaction']"
      ]
     },
     "execution_count": 18,
     "metadata": {},
     "output_type": "execute_result"
    }
   ],
   "source": [
    "topic_names_ord"
   ]
  },
  {
   "cell_type": "code",
   "execution_count": 19,
   "metadata": {
    "ExecuteTime": {
     "end_time": "2018-05-10T06:43:44.926981Z",
     "start_time": "2018-05-10T06:43:44.902579Z"
    }
   },
   "outputs": [],
   "source": [
    "topic_relwords_mapper = {}\n",
    "for i in range(len(topic_names_ord)):\n",
    "    topic_relwords_mapper[topic_names_ord[i]] = top3words[i]\n"
   ]
  },
  {
   "cell_type": "code",
   "execution_count": 20,
   "metadata": {
    "ExecuteTime": {
     "end_time": "2018-05-10T06:43:44.974855Z",
     "start_time": "2018-05-10T06:43:44.932233Z"
    }
   },
   "outputs": [
    {
     "data": {
      "text/plain": [
       "['Cost & Quality', 'Pizza', 'Lunch']"
      ]
     },
     "execution_count": 20,
     "metadata": {},
     "output_type": "execute_result"
    }
   ],
   "source": [
    "topic_closest[0]"
   ]
  },
  {
   "cell_type": "code",
   "execution_count": 21,
   "metadata": {
    "ExecuteTime": {
     "end_time": "2018-05-10T06:43:45.023538Z",
     "start_time": "2018-05-10T06:43:44.994143Z"
    }
   },
   "outputs": [],
   "source": [
    "topic1_for_disp = []\n",
    "topic2_for_disp = []\n",
    "topic3_for_disp = []\n",
    "for review in topic_closest:\n",
    "    str1 = review[0] + ': ' + topic_relwords_mapper[review[0]]\n",
    "    topic1_for_disp.append(str1)\n",
    "    str2 = review[1] + ': ' + topic_relwords_mapper[review[1]]\n",
    "    topic2_for_disp.append(str2)\n",
    "    str3 = review[2] + ': ' + topic_relwords_mapper[review[2]]\n",
    "    topic3_for_disp.append(str3)"
   ]
  },
  {
   "cell_type": "code",
   "execution_count": 22,
   "metadata": {
    "ExecuteTime": {
     "end_time": "2018-05-10T06:43:45.056328Z",
     "start_time": "2018-05-10T06:43:45.029006Z"
    }
   },
   "outputs": [
    {
     "data": {
      "text/plain": [
       "['Pizza: slice, wing, pizza',\n",
       " 'Wait Time: minute, table, wait',\n",
       " 'Fine Dining: restaurant, dinner, dessert',\n",
       " 'Asian: noodle, thai, rice',\n",
       " 'Cost & Quality: food, good, price',\n",
       " 'Casino Hotel: hotel, stay, buffet',\n",
       " 'Steakhouse: steakhouse, cook, steak',\n",
       " 'Cost & Quality: food, good, price',\n",
       " 'Wait Time: minute, table, wait',\n",
       " 'Casino Hotel: hotel, stay, buffet',\n",
       " 'Pizza: slice, wing, pizza',\n",
       " 'Steakhouse: steakhouse, cook, steak',\n",
       " 'Italian: salad, pasta, bread',\n",
       " 'Bars: drink, beer, bar',\n",
       " 'Italian: salad, pasta, bread',\n",
       " 'Pizza: slice, wing, pizza',\n",
       " 'Italian: salad, pasta, bread',\n",
       " 'Mexican: taco, burrito, mexican',\n",
       " 'Pizza: slice, wing, pizza',\n",
       " 'Wait Time: minute, table, wait',\n",
       " 'Fine Dining: restaurant, dinner, dessert',\n",
       " 'Sushi Restaurant: roll, fish, sushi',\n",
       " 'Asian: noodle, thai, rice',\n",
       " 'Steakhouse: steakhouse, cook, steak',\n",
       " 'Coffee Shop: coffee, tea, chocolate',\n",
       " 'Casino Hotel: hotel, stay, buffet',\n",
       " 'Pizza: slice, wing, pizza',\n",
       " 'Italian: salad, pasta, bread',\n",
       " 'High Customer Satisfaction: food, service, great',\n",
       " 'Italian: salad, pasta, bread',\n",
       " 'Sushi Restaurant: roll, fish, sushi',\n",
       " 'Italian: salad, pasta, bread',\n",
       " 'Asian: noodle, thai, rice',\n",
       " 'Asian: noodle, thai, rice',\n",
       " 'Sushi Restaurant: roll, fish, sushi',\n",
       " 'Fine Dining: restaurant, dinner, dessert',\n",
       " 'Fine Dining: restaurant, dinner, dessert',\n",
       " 'Mexican: taco, burrito, mexican',\n",
       " 'Steakhouse: steakhouse, cook, steak',\n",
       " 'Bars: drink, beer, bar',\n",
       " 'Steakhouse: steakhouse, cook, steak',\n",
       " 'Sushi Restaurant: roll, fish, sushi',\n",
       " 'Pizza: slice, wing, pizza',\n",
       " 'Pizza: slice, wing, pizza',\n",
       " 'Italian: salad, pasta, bread',\n",
       " 'High Customer Satisfaction: food, service, great',\n",
       " 'Italian: salad, pasta, bread',\n",
       " 'Pizza: slice, wing, pizza',\n",
       " 'Mexican: taco, burrito, mexican',\n",
       " 'Sushi Restaurant: roll, fish, sushi',\n",
       " 'Sushi Restaurant: roll, fish, sushi',\n",
       " 'High Customer Satisfaction: food, service, great',\n",
       " 'Pizza: slice, wing, pizza',\n",
       " 'Asian: noodle, thai, rice',\n",
       " 'High Customer Satisfaction: food, service, great',\n",
       " 'Fine Dining: restaurant, dinner, dessert',\n",
       " 'Low Customer Satisfaction: tell, order, bad',\n",
       " 'Sushi Restaurant: roll, fish, sushi',\n",
       " 'Fine Dining: restaurant, dinner, dessert',\n",
       " 'Asian: noodle, thai, rice',\n",
       " 'Pizza: slice, wing, pizza',\n",
       " 'Italian: salad, pasta, bread',\n",
       " 'High Customer Satisfaction: food, service, great',\n",
       " 'Wait Time: minute, table, wait',\n",
       " 'Low Customer Satisfaction: tell, order, bad',\n",
       " 'Italian: salad, pasta, bread',\n",
       " 'High Customer Satisfaction: food, service, great',\n",
       " 'Casino Hotel: hotel, stay, buffet',\n",
       " 'Steakhouse: steakhouse, cook, steak',\n",
       " 'Wait Time: minute, table, wait',\n",
       " 'Asian: noodle, thai, rice',\n",
       " 'Italian: salad, pasta, bread',\n",
       " 'Italian: salad, pasta, bread',\n",
       " 'High Customer Satisfaction: food, service, great',\n",
       " 'Asian: noodle, thai, rice',\n",
       " 'Cost & Quality: food, good, price',\n",
       " 'Cost & Quality: food, good, price',\n",
       " 'Wait Time: minute, table, wait',\n",
       " 'Mexican: taco, burrito, mexican',\n",
       " 'Coffee Shop: coffee, tea, chocolate',\n",
       " 'Fine Dining: restaurant, dinner, dessert',\n",
       " 'High Customer Satisfaction: food, service, great',\n",
       " 'Steakhouse: steakhouse, cook, steak',\n",
       " 'Casino Hotel: hotel, stay, buffet',\n",
       " 'Bars: drink, beer, bar',\n",
       " 'Italian: salad, pasta, bread',\n",
       " 'Steakhouse: steakhouse, cook, steak',\n",
       " 'Italian: salad, pasta, bread',\n",
       " 'Mexican: taco, burrito, mexican',\n",
       " 'Asian: noodle, thai, rice',\n",
       " 'High Customer Satisfaction: food, service, great',\n",
       " 'High Customer Satisfaction: food, service, great',\n",
       " 'Italian: salad, pasta, bread',\n",
       " 'Steakhouse: steakhouse, cook, steak',\n",
       " 'Breakfast: egg, chicken, sandwich',\n",
       " 'Mexican: taco, burrito, mexican',\n",
       " 'Low Customer Satisfaction: tell, order, bad',\n",
       " 'Asian: noodle, thai, rice',\n",
       " 'Steakhouse: steakhouse, cook, steak',\n",
       " 'Fast Food: burger, fry, shake',\n",
       " 'Cost & Quality: food, good, price',\n",
       " 'Pizza: slice, wing, pizza',\n",
       " 'Bars: drink, beer, bar',\n",
       " 'Steakhouse: steakhouse, cook, steak',\n",
       " 'High Customer Satisfaction: food, service, great',\n",
       " 'Sushi Restaurant: roll, fish, sushi',\n",
       " 'Wait Time: minute, table, wait',\n",
       " 'Lunch: lunch, location, place',\n",
       " 'Asian: noodle, thai, rice',\n",
       " 'Lunch: lunch, location, place',\n",
       " 'Cost & Quality: food, good, price',\n",
       " 'Pizza: slice, wing, pizza',\n",
       " 'High Customer Satisfaction: food, service, great',\n",
       " 'Bars: drink, beer, bar',\n",
       " 'Steakhouse: steakhouse, cook, steak',\n",
       " 'Casino Hotel: hotel, stay, buffet',\n",
       " 'Steakhouse: steakhouse, cook, steak',\n",
       " 'High Customer Satisfaction: food, service, great',\n",
       " 'Breakfast: egg, chicken, sandwich',\n",
       " 'Steakhouse: steakhouse, cook, steak',\n",
       " 'Mexican: taco, burrito, mexican',\n",
       " 'Casino Hotel: hotel, stay, buffet',\n",
       " 'Pizza: slice, wing, pizza',\n",
       " 'Steakhouse: steakhouse, cook, steak',\n",
       " 'Casino Hotel: hotel, stay, buffet',\n",
       " 'High Customer Satisfaction: food, service, great',\n",
       " 'High Customer Satisfaction: food, service, great',\n",
       " 'Italian: salad, pasta, bread',\n",
       " 'Asian: noodle, thai, rice',\n",
       " 'Italian: salad, pasta, bread',\n",
       " 'Steakhouse: steakhouse, cook, steak',\n",
       " 'Casino Hotel: hotel, stay, buffet',\n",
       " 'Italian: salad, pasta, bread',\n",
       " 'Bars: drink, beer, bar',\n",
       " 'Casino Hotel: hotel, stay, buffet',\n",
       " 'Fine Dining: restaurant, dinner, dessert',\n",
       " 'Italian: salad, pasta, bread',\n",
       " 'Low Customer Satisfaction: tell, order, bad',\n",
       " 'High Customer Satisfaction: food, service, great',\n",
       " 'Wait Time: minute, table, wait',\n",
       " 'Night Club: business, door, walk',\n",
       " 'Asian: noodle, thai, rice',\n",
       " 'High Customer Satisfaction: food, service, great',\n",
       " 'Asian: noodle, thai, rice',\n",
       " 'Sushi Restaurant: roll, fish, sushi',\n",
       " 'Steakhouse: steakhouse, cook, steak',\n",
       " 'Sushi Restaurant: roll, fish, sushi',\n",
       " 'Pizza: slice, wing, pizza',\n",
       " 'High Customer Satisfaction: food, service, great',\n",
       " 'High Customer Satisfaction: food, service, great',\n",
       " 'Mexican: taco, burrito, mexican',\n",
       " 'High Customer Satisfaction: food, service, great',\n",
       " 'High Customer Satisfaction: food, service, great',\n",
       " 'Italian: salad, pasta, bread',\n",
       " 'Asian: noodle, thai, rice',\n",
       " 'Casino Hotel: hotel, stay, buffet',\n",
       " 'High Customer Satisfaction: food, service, great',\n",
       " 'Coffee Shop: coffee, tea, chocolate',\n",
       " 'Pizza: slice, wing, pizza',\n",
       " 'Steakhouse: steakhouse, cook, steak',\n",
       " 'Mexican: taco, burrito, mexican',\n",
       " 'High Customer Satisfaction: food, service, great',\n",
       " 'Coffee Shop: coffee, tea, chocolate',\n",
       " 'Sushi Restaurant: roll, fish, sushi',\n",
       " 'Pizza: slice, wing, pizza',\n",
       " 'Steakhouse: steakhouse, cook, steak',\n",
       " 'Italian: salad, pasta, bread',\n",
       " 'Mexican: taco, burrito, mexican',\n",
       " 'Pizza: slice, wing, pizza',\n",
       " 'Casino Hotel: hotel, stay, buffet',\n",
       " 'Casino Hotel: hotel, stay, buffet',\n",
       " 'High Customer Satisfaction: food, service, great',\n",
       " 'Italian: salad, pasta, bread',\n",
       " 'Fine Dining: restaurant, dinner, dessert',\n",
       " 'Italian: salad, pasta, bread',\n",
       " 'Casino Hotel: hotel, stay, buffet',\n",
       " 'Fine Dining: restaurant, dinner, dessert',\n",
       " 'High Customer Satisfaction: food, service, great',\n",
       " 'Sushi Restaurant: roll, fish, sushi',\n",
       " 'Asian: noodle, thai, rice',\n",
       " 'Mexican: taco, burrito, mexican',\n",
       " 'Breakfast: egg, chicken, sandwich',\n",
       " 'Sushi Restaurant: roll, fish, sushi',\n",
       " 'Night Club: business, door, walk',\n",
       " 'Steakhouse: steakhouse, cook, steak',\n",
       " 'High Customer Satisfaction: food, service, great',\n",
       " 'Lunch: lunch, location, place',\n",
       " 'Sushi Restaurant: roll, fish, sushi',\n",
       " 'Asian: noodle, thai, rice',\n",
       " 'Italian: salad, pasta, bread',\n",
       " 'Fast Food: burger, fry, shake',\n",
       " 'Sushi Restaurant: roll, fish, sushi',\n",
       " 'Fast Food: burger, fry, shake',\n",
       " 'Italian: salad, pasta, bread',\n",
       " 'Night Club: business, door, walk',\n",
       " 'Sushi Restaurant: roll, fish, sushi',\n",
       " 'Cost & Quality: food, good, price',\n",
       " 'High Customer Satisfaction: food, service, great',\n",
       " 'Steakhouse: steakhouse, cook, steak',\n",
       " 'Night Club: business, door, walk',\n",
       " 'Italian: salad, pasta, bread',\n",
       " 'Italian: salad, pasta, bread',\n",
       " 'Wait Time: minute, table, wait',\n",
       " 'Asian: noodle, thai, rice',\n",
       " 'Italian: salad, pasta, bread',\n",
       " 'Italian: salad, pasta, bread',\n",
       " 'Italian: salad, pasta, bread',\n",
       " 'Fast Food: burger, fry, shake',\n",
       " 'Mexican: taco, burrito, mexican',\n",
       " 'Steakhouse: steakhouse, cook, steak',\n",
       " 'Steakhouse: steakhouse, cook, steak',\n",
       " 'Italian: salad, pasta, bread',\n",
       " 'Italian: salad, pasta, bread',\n",
       " 'Italian: salad, pasta, bread',\n",
       " 'Asian: noodle, thai, rice',\n",
       " 'High Customer Satisfaction: food, service, great',\n",
       " 'Sushi Restaurant: roll, fish, sushi',\n",
       " 'Bars: drink, beer, bar',\n",
       " 'High Customer Satisfaction: food, service, great',\n",
       " 'Mexican: taco, burrito, mexican',\n",
       " 'Asian: noodle, thai, rice',\n",
       " 'Fine Dining: restaurant, dinner, dessert',\n",
       " 'Breakfast: egg, chicken, sandwich',\n",
       " 'High Customer Satisfaction: food, service, great',\n",
       " 'Fine Dining: restaurant, dinner, dessert',\n",
       " 'Coffee Shop: coffee, tea, chocolate',\n",
       " 'Low Customer Satisfaction: tell, order, bad',\n",
       " 'Low Customer Satisfaction: tell, order, bad',\n",
       " 'Mexican: taco, burrito, mexican',\n",
       " 'Fine Dining: restaurant, dinner, dessert',\n",
       " 'Asian: noodle, thai, rice',\n",
       " 'Lunch: lunch, location, place',\n",
       " 'Pizza: slice, wing, pizza',\n",
       " 'High Customer Satisfaction: food, service, great',\n",
       " 'Cost & Quality: food, good, price',\n",
       " 'Cost & Quality: food, good, price',\n",
       " 'Wait Time: minute, table, wait']"
      ]
     },
     "execution_count": 22,
     "metadata": {},
     "output_type": "execute_result"
    }
   ],
   "source": [
    "topic2_for_disp"
   ]
  },
  {
   "cell_type": "code",
   "execution_count": 23,
   "metadata": {
    "ExecuteTime": {
     "end_time": "2018-05-10T06:43:45.080136Z",
     "start_time": "2018-05-10T06:43:45.063267Z"
    }
   },
   "outputs": [
    {
     "data": {
      "text/plain": [
       "237"
      ]
     },
     "execution_count": 23,
     "metadata": {},
     "output_type": "execute_result"
    }
   ],
   "source": [
    "len(topic1_for_disp)"
   ]
  },
  {
   "cell_type": "code",
   "execution_count": 24,
   "metadata": {
    "ExecuteTime": {
     "end_time": "2018-05-10T06:43:45.103368Z",
     "start_time": "2018-05-10T06:43:45.085510Z"
    }
   },
   "outputs": [
    {
     "data": {
      "text/plain": [
       "'salad, pasta, bread'"
      ]
     },
     "execution_count": 24,
     "metadata": {},
     "output_type": "execute_result"
    }
   ],
   "source": [
    "topic_relwords_mapper['Italian']"
   ]
  },
  {
   "cell_type": "code",
   "execution_count": 25,
   "metadata": {
    "ExecuteTime": {
     "end_time": "2018-05-10T06:43:45.170666Z",
     "start_time": "2018-05-10T06:43:45.111914Z"
    }
   },
   "outputs": [],
   "source": [
    "threshold2k ={\n",
    "    0.55: 0.7,\n",
    "    0.56: 0.9,\n",
    "    0.57: 0.3,\n",
    "    0.58: 5,\n",
    "    0.59: 2,\n",
    "    0.6: 5,\n",
    "    0.61: 5,\n",
    "    0.62: 5\n",
    "}"
   ]
  },
  {
   "cell_type": "code",
   "execution_count": 26,
   "metadata": {
    "ExecuteTime": {
     "end_time": "2018-05-10T06:43:45.246737Z",
     "start_time": "2018-05-10T06:43:45.185343Z"
    }
   },
   "outputs": [],
   "source": [
    "# arbitrary threshold for deciding whether 2 observations are 'similar' or not\n",
    "threshold_all = [0.55, 0.56, 0.57, 0.58, 0.59, 0.6, 0.61, 0.62]\n",
    "def th_mark(x):\n",
    "    if x==np.min(threshold_all):\n",
    "        return 'Low'\n",
    "    elif x==np.max(threshold_all):\n",
    "        return 'High'\n",
    "    else:\n",
    "        return ''\n",
    "    \n",
    "threshold_mark = {str(th):th_mark(th) for th in threshold_all}\n",
    "adjacency = [np.where(pairwise_dist > threshold, 1, 0) for threshold in threshold_all]"
   ]
  },
  {
   "cell_type": "code",
   "execution_count": 27,
   "metadata": {
    "ExecuteTime": {
     "end_time": "2018-05-10T06:43:45.278326Z",
     "start_time": "2018-05-10T06:43:45.252406Z"
    }
   },
   "outputs": [],
   "source": [
    "# map threshold value to adjacency matrix\n",
    "thresh_to_adj = {thresh: adj for thresh, adj in zip(threshold_all, adjacency)}"
   ]
  },
  {
   "cell_type": "code",
   "execution_count": 28,
   "metadata": {
    "ExecuteTime": {
     "end_time": "2018-05-10T06:43:45.316400Z",
     "start_time": "2018-05-10T06:43:45.287484Z"
    }
   },
   "outputs": [],
   "source": [
    "def create_graph(adj):\n",
    "    # input: adjaccency matrix\n",
    "    # returns a graph with the isolates removed\n",
    "    G = nx.from_numpy_matrix(adj)\n",
    "    isolates = list(nx.isolates(G))\n",
    "    G.remove_nodes_from(isolates)\n",
    "    return G"
   ]
  },
  {
   "cell_type": "code",
   "execution_count": 29,
   "metadata": {
    "ExecuteTime": {
     "end_time": "2018-05-10T06:43:45.387423Z",
     "start_time": "2018-05-10T06:43:45.324961Z"
    }
   },
   "outputs": [],
   "source": [
    "# map threshold value to graph\n",
    "thresh_to_graph = {thresh: create_graph(adj) for thresh, adj in zip(threshold_all, adjacency)}"
   ]
  },
  {
   "cell_type": "code",
   "execution_count": 30,
   "metadata": {
    "ExecuteTime": {
     "end_time": "2018-05-10T06:43:52.800036Z",
     "start_time": "2018-05-10T06:43:45.398104Z"
    }
   },
   "outputs": [],
   "source": [
    "# extract node positions\n",
    "fruchterman_iter = 1000\n",
    "\n",
    "# map threshold values to positions of nodes\n",
    "thresh_to_pos = {}\n",
    "\n",
    "for thresh in thresh_to_graph:\n",
    "    graph = nx.fruchterman_reingold_layout(thresh_to_graph[thresh], k = threshold2k[thresh], iterations=fruchterman_iter)\n",
    "    thresh_to_pos[thresh] = graph"
   ]
  },
  {
   "cell_type": "code",
   "execution_count": 31,
   "metadata": {
    "ExecuteTime": {
     "end_time": "2018-05-10T06:43:53.766899Z",
     "start_time": "2018-05-10T06:43:52.802296Z"
    }
   },
   "outputs": [],
   "source": [
    "thresh_to_XnYn = {}\n",
    "for thresh in thresh_to_pos:\n",
    "    pos = thresh_to_pos[thresh]\n",
    "    # define lists of node coordinates\n",
    "    Xn_strip = [pos[k][0] for k in sorted(pos.keys()) if k in df_yelp.index[df_yelp.is_strip == True]]\n",
    "    Yn_strip = [pos[k][1] for k in sorted(pos.keys()) if k in df_yelp.index[df_yelp.is_strip == True]]\n",
    "    Xn_notstrip = [pos[k][0] for k in sorted(pos.keys()) if k in df_yelp.index[df_yelp.is_strip == False]]\n",
    "    Yn_notstrip = [pos[k][1] for k in sorted(pos.keys()) if k in df_yelp.index[df_yelp.is_strip == False]]\n",
    "    thresh_to_XnYn[thresh] = (Xn_strip, Yn_strip, Xn_notstrip, Yn_notstrip)"
   ]
  },
  {
   "cell_type": "code",
   "execution_count": 32,
   "metadata": {
    "ExecuteTime": {
     "end_time": "2018-05-10T06:43:53.776485Z",
     "start_time": "2018-05-10T06:43:53.769337Z"
    }
   },
   "outputs": [],
   "source": [
    "# concatenating the 2 dataframes\n",
    "df = pd.concat([df, df_yelp], axis=1)"
   ]
  },
  {
   "cell_type": "code",
   "execution_count": 33,
   "metadata": {
    "ExecuteTime": {
     "end_time": "2018-05-10T06:43:53.784868Z",
     "start_time": "2018-05-10T06:43:53.779425Z"
    }
   },
   "outputs": [],
   "source": [
    "df.stars = df.stars.astype(str)\n",
    "df.stars = df.stars + ' stars'"
   ]
  },
  {
   "cell_type": "code",
   "execution_count": 34,
   "metadata": {
    "ExecuteTime": {
     "end_time": "2018-05-10T06:43:53.980765Z",
     "start_time": "2018-05-10T06:43:53.789117Z"
    }
   },
   "outputs": [],
   "source": [
    "df['temp_id'] = df.index\n",
    "df['topic1_for_disp'] = topic1_for_disp\n",
    "df['topic2_for_disp'] = topic2_for_disp\n",
    "df['topic3_for_disp'] = topic3_for_disp\n",
    "\n",
    "# map threshold value to a list of nodes left over in the graph after isolate removal\n",
    "thresh_to_nodenums = {}\n",
    "for thresh in thresh_to_graph:\n",
    "    graph = thresh_to_graph[thresh]\n",
    "    nodenums = list(graph.nodes())\n",
    "    thresh_to_nodenums[thresh] = nodenums\n",
    "    \n",
    "# format of thresh_to_XnYn's output:\n",
    "# thresh_to_XnYn[thresh] = (Xn_strip, Yn_strip, Xn_notstrip, Yn_notstrip)\n",
    "\n",
    "stacked_df = []\n",
    "for thresh in thresh_to_XnYn:\n",
    "    # for each threshold, create a copy of df\n",
    "    df_temp = df.copy()\n",
    "    \n",
    "    # positions of nodes for the graph\n",
    "    Xn_strip, Yn_strip, Xn_notstrip, Yn_notstrip = thresh_to_XnYn[thresh]\n",
    "    # nodes left after removing isolates\n",
    "    nodenums = thresh_to_nodenums[thresh]\n",
    "    \n",
    "    df_temp['threshold'] = thresh\n",
    "    # initialize Xn and Yn\n",
    "    df_temp['Xn'] = np.nan\n",
    "    df_temp['Yn'] = np.nan\n",
    "    # fill in X and Y positions of nodes for non-isolate nodes\n",
    "    df_temp.loc[(df_temp.is_strip == True) & (df_temp.temp_id.isin(nodenums)), 'Xn'] = Xn_strip\n",
    "    df_temp.loc[(df_temp.is_strip == True) & (df_temp.temp_id.isin(nodenums)), 'Yn'] = Yn_strip\n",
    "    df_temp.loc[(df_temp.is_strip == False) & (df_temp.temp_id.isin(nodenums)), 'Xn'] = Xn_notstrip\n",
    "    df_temp.loc[(df_temp.is_strip == False) & (df_temp.temp_id.isin(nodenums)), 'Yn'] = Yn_notstrip\n",
    "    \n",
    "    stacked_df.append(df_temp)\n",
    "    \n",
    "# vertically stack the dataframes in stacked_df\n",
    "df_final = pd.concat(stacked_df, axis=0, ignore_index=True)"
   ]
  },
  {
   "cell_type": "code",
   "execution_count": 35,
   "metadata": {
    "ExecuteTime": {
     "end_time": "2018-05-10T06:43:53.996737Z",
     "start_time": "2018-05-10T06:43:53.984651Z"
    }
   },
   "outputs": [
    {
     "data": {
      "text/plain": [
       "(1896, 37)"
      ]
     },
     "execution_count": 35,
     "metadata": {},
     "output_type": "execute_result"
    }
   ],
   "source": [
    "df_final.shape"
   ]
  },
  {
   "cell_type": "code",
   "execution_count": 36,
   "metadata": {
    "ExecuteTime": {
     "end_time": "2018-05-10T06:43:54.022463Z",
     "start_time": "2018-05-10T06:43:54.000965Z"
    }
   },
   "outputs": [
    {
     "data": {
      "text/plain": [
       "NAME                object\n",
       "PAGE                object\n",
       "IMG_URL             object\n",
       "LOGP               float64\n",
       "PKA                float64\n",
       "MW                 float64\n",
       "FORM                object\n",
       "SOL                float64\n",
       "DESC                object\n",
       "name                object\n",
       "is_strip            object\n",
       "stars               object\n",
       "Topic1             float64\n",
       "Topic2             float64\n",
       "Topic3             float64\n",
       "Topic4             float64\n",
       "Topic5             float64\n",
       "Topic6             float64\n",
       "Topic7             float64\n",
       "Topic8             float64\n",
       "Topic9             float64\n",
       "Topic10            float64\n",
       "Topic11            float64\n",
       "Topic12            float64\n",
       "Topic13            float64\n",
       "Topic14            float64\n",
       "Topic15            float64\n",
       "Topic16            float64\n",
       "Topic17            float64\n",
       "Topic18            float64\n",
       "temp_id              int64\n",
       "topic1_for_disp     object\n",
       "topic2_for_disp     object\n",
       "topic3_for_disp     object\n",
       "threshold          float64\n",
       "Xn                 float64\n",
       "Yn                 float64\n",
       "dtype: object"
      ]
     },
     "execution_count": 36,
     "metadata": {},
     "output_type": "execute_result"
    }
   ],
   "source": [
    "df_final.dtypes"
   ]
  },
  {
   "cell_type": "code",
   "execution_count": 37,
   "metadata": {
    "ExecuteTime": {
     "end_time": "2018-05-10T06:43:54.044754Z",
     "start_time": "2018-05-10T06:43:54.032219Z"
    }
   },
   "outputs": [],
   "source": [
    "df_final.drop(['NAME', 'FORM', 'SOL', 'DESC', 'LOGP', 'PKA', 'MW'], axis=1, inplace=True)"
   ]
  },
  {
   "cell_type": "code",
   "execution_count": 38,
   "metadata": {
    "ExecuteTime": {
     "end_time": "2018-05-10T06:43:54.054008Z",
     "start_time": "2018-05-10T06:43:54.048477Z"
    }
   },
   "outputs": [],
   "source": [
    "df_final.rename(columns={'name': 'NAME'}, inplace=True)"
   ]
  },
  {
   "cell_type": "code",
   "execution_count": 39,
   "metadata": {
    "ExecuteTime": {
     "end_time": "2018-05-10T06:43:54.078180Z",
     "start_time": "2018-05-10T06:43:54.060335Z"
    }
   },
   "outputs": [
    {
     "data": {
      "text/plain": [
       "PAGE                object\n",
       "IMG_URL             object\n",
       "NAME                object\n",
       "is_strip            object\n",
       "stars               object\n",
       "Topic1             float64\n",
       "Topic2             float64\n",
       "Topic3             float64\n",
       "Topic4             float64\n",
       "Topic5             float64\n",
       "Topic6             float64\n",
       "Topic7             float64\n",
       "Topic8             float64\n",
       "Topic9             float64\n",
       "Topic10            float64\n",
       "Topic11            float64\n",
       "Topic12            float64\n",
       "Topic13            float64\n",
       "Topic14            float64\n",
       "Topic15            float64\n",
       "Topic16            float64\n",
       "Topic17            float64\n",
       "Topic18            float64\n",
       "temp_id              int64\n",
       "topic1_for_disp     object\n",
       "topic2_for_disp     object\n",
       "topic3_for_disp     object\n",
       "threshold          float64\n",
       "Xn                 float64\n",
       "Yn                 float64\n",
       "dtype: object"
      ]
     },
     "execution_count": 39,
     "metadata": {},
     "output_type": "execute_result"
    }
   ],
   "source": [
    "df_final.dtypes"
   ]
  },
  {
   "cell_type": "code",
   "execution_count": null,
   "metadata": {},
   "outputs": [],
   "source": []
  },
  {
   "cell_type": "code",
   "execution_count": null,
   "metadata": {},
   "outputs": [],
   "source": []
  },
  {
   "cell_type": "code",
   "execution_count": null,
   "metadata": {},
   "outputs": [],
   "source": []
  },
  {
   "cell_type": "code",
   "execution_count": null,
   "metadata": {},
   "outputs": [],
   "source": []
  }
 ],
 "metadata": {
  "kernelspec": {
   "display_name": "Python 3",
   "language": "python",
   "name": "python3"
  },
  "language_info": {
   "codemirror_mode": {
    "name": "ipython",
    "version": 3
   },
   "file_extension": ".py",
   "mimetype": "text/x-python",
   "name": "python",
   "nbconvert_exporter": "python",
   "pygments_lexer": "ipython3",
   "version": "3.6.4"
  },
  "toc": {
   "nav_menu": {},
   "number_sections": true,
   "sideBar": true,
   "skip_h1_title": false,
   "toc_cell": false,
   "toc_position": {},
   "toc_section_display": "block",
   "toc_window_display": false
  },
  "varInspector": {
   "cols": {
    "lenName": 16,
    "lenType": 16,
    "lenVar": 40
   },
   "kernels_config": {
    "python": {
     "delete_cmd_postfix": "",
     "delete_cmd_prefix": "del ",
     "library": "var_list.py",
     "varRefreshCmd": "print(var_dic_list())"
    },
    "r": {
     "delete_cmd_postfix": ") ",
     "delete_cmd_prefix": "rm(",
     "library": "var_list.r",
     "varRefreshCmd": "cat(var_dic_list()) "
    }
   },
   "types_to_exclude": [
    "module",
    "function",
    "builtin_function_or_method",
    "instance",
    "_Feature"
   ],
   "window_display": false
  }
 },
 "nbformat": 4,
 "nbformat_minor": 2
}
